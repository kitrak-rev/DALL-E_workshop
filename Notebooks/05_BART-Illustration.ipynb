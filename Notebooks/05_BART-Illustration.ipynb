{
  "nbformat": 4,
  "nbformat_minor": 0,
  "metadata": {
    "colab": {
      "provenance": []
    },
    "kernelspec": {
      "name": "python3",
      "display_name": "Python 3"
    },
    "language_info": {
      "name": "python"
    },
    "widgets": {
      "application/vnd.jupyter.widget-state+json": {
        "38ea58628b274b5a92d89a1f210fe82a": {
          "model_module": "@jupyter-widgets/controls",
          "model_name": "HBoxModel",
          "model_module_version": "1.5.0",
          "state": {
            "_dom_classes": [],
            "_model_module": "@jupyter-widgets/controls",
            "_model_module_version": "1.5.0",
            "_model_name": "HBoxModel",
            "_view_count": null,
            "_view_module": "@jupyter-widgets/controls",
            "_view_module_version": "1.5.0",
            "_view_name": "HBoxView",
            "box_style": "",
            "children": [
              "IPY_MODEL_0b1a60e80ecd49aebd1530aa0a54bd01",
              "IPY_MODEL_df71238a03a64fc2b07c03a0b9b0590a",
              "IPY_MODEL_2b99070c1ab04033952bb02552f2c9cd"
            ],
            "layout": "IPY_MODEL_cc968ce980404158bd6772c25d3ad861"
          }
        },
        "0b1a60e80ecd49aebd1530aa0a54bd01": {
          "model_module": "@jupyter-widgets/controls",
          "model_name": "HTMLModel",
          "model_module_version": "1.5.0",
          "state": {
            "_dom_classes": [],
            "_model_module": "@jupyter-widgets/controls",
            "_model_module_version": "1.5.0",
            "_model_name": "HTMLModel",
            "_view_count": null,
            "_view_module": "@jupyter-widgets/controls",
            "_view_module_version": "1.5.0",
            "_view_name": "HTMLView",
            "description": "",
            "description_tooltip": null,
            "layout": "IPY_MODEL_4b392b755cb3438394c58eb8033fd90d",
            "placeholder": "​",
            "style": "IPY_MODEL_148b8730310e47199c911dac643293d4",
            "value": "Downloading (…)okenizer_config.json: 100%"
          }
        },
        "df71238a03a64fc2b07c03a0b9b0590a": {
          "model_module": "@jupyter-widgets/controls",
          "model_name": "FloatProgressModel",
          "model_module_version": "1.5.0",
          "state": {
            "_dom_classes": [],
            "_model_module": "@jupyter-widgets/controls",
            "_model_module_version": "1.5.0",
            "_model_name": "FloatProgressModel",
            "_view_count": null,
            "_view_module": "@jupyter-widgets/controls",
            "_view_module_version": "1.5.0",
            "_view_name": "ProgressView",
            "bar_style": "success",
            "description": "",
            "description_tooltip": null,
            "layout": "IPY_MODEL_87f63bd5a8ac489cad69b38c8938429d",
            "max": 26,
            "min": 0,
            "orientation": "horizontal",
            "style": "IPY_MODEL_4124aa94a035458592f15c9c768cbef2",
            "value": 26
          }
        },
        "2b99070c1ab04033952bb02552f2c9cd": {
          "model_module": "@jupyter-widgets/controls",
          "model_name": "HTMLModel",
          "model_module_version": "1.5.0",
          "state": {
            "_dom_classes": [],
            "_model_module": "@jupyter-widgets/controls",
            "_model_module_version": "1.5.0",
            "_model_name": "HTMLModel",
            "_view_count": null,
            "_view_module": "@jupyter-widgets/controls",
            "_view_module_version": "1.5.0",
            "_view_name": "HTMLView",
            "description": "",
            "description_tooltip": null,
            "layout": "IPY_MODEL_81914f515afd4174a20b8bd9a59888f4",
            "placeholder": "​",
            "style": "IPY_MODEL_bd00de78567d4e299acb4c8bf98ade80",
            "value": " 26.0/26.0 [00:00&lt;00:00, 424B/s]"
          }
        },
        "cc968ce980404158bd6772c25d3ad861": {
          "model_module": "@jupyter-widgets/base",
          "model_name": "LayoutModel",
          "model_module_version": "1.2.0",
          "state": {
            "_model_module": "@jupyter-widgets/base",
            "_model_module_version": "1.2.0",
            "_model_name": "LayoutModel",
            "_view_count": null,
            "_view_module": "@jupyter-widgets/base",
            "_view_module_version": "1.2.0",
            "_view_name": "LayoutView",
            "align_content": null,
            "align_items": null,
            "align_self": null,
            "border": null,
            "bottom": null,
            "display": null,
            "flex": null,
            "flex_flow": null,
            "grid_area": null,
            "grid_auto_columns": null,
            "grid_auto_flow": null,
            "grid_auto_rows": null,
            "grid_column": null,
            "grid_gap": null,
            "grid_row": null,
            "grid_template_areas": null,
            "grid_template_columns": null,
            "grid_template_rows": null,
            "height": null,
            "justify_content": null,
            "justify_items": null,
            "left": null,
            "margin": null,
            "max_height": null,
            "max_width": null,
            "min_height": null,
            "min_width": null,
            "object_fit": null,
            "object_position": null,
            "order": null,
            "overflow": null,
            "overflow_x": null,
            "overflow_y": null,
            "padding": null,
            "right": null,
            "top": null,
            "visibility": null,
            "width": null
          }
        },
        "4b392b755cb3438394c58eb8033fd90d": {
          "model_module": "@jupyter-widgets/base",
          "model_name": "LayoutModel",
          "model_module_version": "1.2.0",
          "state": {
            "_model_module": "@jupyter-widgets/base",
            "_model_module_version": "1.2.0",
            "_model_name": "LayoutModel",
            "_view_count": null,
            "_view_module": "@jupyter-widgets/base",
            "_view_module_version": "1.2.0",
            "_view_name": "LayoutView",
            "align_content": null,
            "align_items": null,
            "align_self": null,
            "border": null,
            "bottom": null,
            "display": null,
            "flex": null,
            "flex_flow": null,
            "grid_area": null,
            "grid_auto_columns": null,
            "grid_auto_flow": null,
            "grid_auto_rows": null,
            "grid_column": null,
            "grid_gap": null,
            "grid_row": null,
            "grid_template_areas": null,
            "grid_template_columns": null,
            "grid_template_rows": null,
            "height": null,
            "justify_content": null,
            "justify_items": null,
            "left": null,
            "margin": null,
            "max_height": null,
            "max_width": null,
            "min_height": null,
            "min_width": null,
            "object_fit": null,
            "object_position": null,
            "order": null,
            "overflow": null,
            "overflow_x": null,
            "overflow_y": null,
            "padding": null,
            "right": null,
            "top": null,
            "visibility": null,
            "width": null
          }
        },
        "148b8730310e47199c911dac643293d4": {
          "model_module": "@jupyter-widgets/controls",
          "model_name": "DescriptionStyleModel",
          "model_module_version": "1.5.0",
          "state": {
            "_model_module": "@jupyter-widgets/controls",
            "_model_module_version": "1.5.0",
            "_model_name": "DescriptionStyleModel",
            "_view_count": null,
            "_view_module": "@jupyter-widgets/base",
            "_view_module_version": "1.2.0",
            "_view_name": "StyleView",
            "description_width": ""
          }
        },
        "87f63bd5a8ac489cad69b38c8938429d": {
          "model_module": "@jupyter-widgets/base",
          "model_name": "LayoutModel",
          "model_module_version": "1.2.0",
          "state": {
            "_model_module": "@jupyter-widgets/base",
            "_model_module_version": "1.2.0",
            "_model_name": "LayoutModel",
            "_view_count": null,
            "_view_module": "@jupyter-widgets/base",
            "_view_module_version": "1.2.0",
            "_view_name": "LayoutView",
            "align_content": null,
            "align_items": null,
            "align_self": null,
            "border": null,
            "bottom": null,
            "display": null,
            "flex": null,
            "flex_flow": null,
            "grid_area": null,
            "grid_auto_columns": null,
            "grid_auto_flow": null,
            "grid_auto_rows": null,
            "grid_column": null,
            "grid_gap": null,
            "grid_row": null,
            "grid_template_areas": null,
            "grid_template_columns": null,
            "grid_template_rows": null,
            "height": null,
            "justify_content": null,
            "justify_items": null,
            "left": null,
            "margin": null,
            "max_height": null,
            "max_width": null,
            "min_height": null,
            "min_width": null,
            "object_fit": null,
            "object_position": null,
            "order": null,
            "overflow": null,
            "overflow_x": null,
            "overflow_y": null,
            "padding": null,
            "right": null,
            "top": null,
            "visibility": null,
            "width": null
          }
        },
        "4124aa94a035458592f15c9c768cbef2": {
          "model_module": "@jupyter-widgets/controls",
          "model_name": "ProgressStyleModel",
          "model_module_version": "1.5.0",
          "state": {
            "_model_module": "@jupyter-widgets/controls",
            "_model_module_version": "1.5.0",
            "_model_name": "ProgressStyleModel",
            "_view_count": null,
            "_view_module": "@jupyter-widgets/base",
            "_view_module_version": "1.2.0",
            "_view_name": "StyleView",
            "bar_color": null,
            "description_width": ""
          }
        },
        "81914f515afd4174a20b8bd9a59888f4": {
          "model_module": "@jupyter-widgets/base",
          "model_name": "LayoutModel",
          "model_module_version": "1.2.0",
          "state": {
            "_model_module": "@jupyter-widgets/base",
            "_model_module_version": "1.2.0",
            "_model_name": "LayoutModel",
            "_view_count": null,
            "_view_module": "@jupyter-widgets/base",
            "_view_module_version": "1.2.0",
            "_view_name": "LayoutView",
            "align_content": null,
            "align_items": null,
            "align_self": null,
            "border": null,
            "bottom": null,
            "display": null,
            "flex": null,
            "flex_flow": null,
            "grid_area": null,
            "grid_auto_columns": null,
            "grid_auto_flow": null,
            "grid_auto_rows": null,
            "grid_column": null,
            "grid_gap": null,
            "grid_row": null,
            "grid_template_areas": null,
            "grid_template_columns": null,
            "grid_template_rows": null,
            "height": null,
            "justify_content": null,
            "justify_items": null,
            "left": null,
            "margin": null,
            "max_height": null,
            "max_width": null,
            "min_height": null,
            "min_width": null,
            "object_fit": null,
            "object_position": null,
            "order": null,
            "overflow": null,
            "overflow_x": null,
            "overflow_y": null,
            "padding": null,
            "right": null,
            "top": null,
            "visibility": null,
            "width": null
          }
        },
        "bd00de78567d4e299acb4c8bf98ade80": {
          "model_module": "@jupyter-widgets/controls",
          "model_name": "DescriptionStyleModel",
          "model_module_version": "1.5.0",
          "state": {
            "_model_module": "@jupyter-widgets/controls",
            "_model_module_version": "1.5.0",
            "_model_name": "DescriptionStyleModel",
            "_view_count": null,
            "_view_module": "@jupyter-widgets/base",
            "_view_module_version": "1.2.0",
            "_view_name": "StyleView",
            "description_width": ""
          }
        },
        "52a6705b5e91431d84fddecc1213d7d3": {
          "model_module": "@jupyter-widgets/controls",
          "model_name": "HBoxModel",
          "model_module_version": "1.5.0",
          "state": {
            "_dom_classes": [],
            "_model_module": "@jupyter-widgets/controls",
            "_model_module_version": "1.5.0",
            "_model_name": "HBoxModel",
            "_view_count": null,
            "_view_module": "@jupyter-widgets/controls",
            "_view_module_version": "1.5.0",
            "_view_name": "HBoxView",
            "box_style": "",
            "children": [
              "IPY_MODEL_7a907284b1ba4fb280043d05c176a097",
              "IPY_MODEL_cca2fe504e374b1a961fb34b308a6f55",
              "IPY_MODEL_2b0d7659c6bf455ba4e6d7d8f9caa27d"
            ],
            "layout": "IPY_MODEL_bef6f89415b641acb378b3203e4f0288"
          }
        },
        "7a907284b1ba4fb280043d05c176a097": {
          "model_module": "@jupyter-widgets/controls",
          "model_name": "HTMLModel",
          "model_module_version": "1.5.0",
          "state": {
            "_dom_classes": [],
            "_model_module": "@jupyter-widgets/controls",
            "_model_module_version": "1.5.0",
            "_model_name": "HTMLModel",
            "_view_count": null,
            "_view_module": "@jupyter-widgets/controls",
            "_view_module_version": "1.5.0",
            "_view_name": "HTMLView",
            "description": "",
            "description_tooltip": null,
            "layout": "IPY_MODEL_e663cb0b862a4545bfe2ac4b533b4802",
            "placeholder": "​",
            "style": "IPY_MODEL_d609d4af852f42e4959b9b491afb3cf9",
            "value": "Downloading (…)lve/main/config.json: 100%"
          }
        },
        "cca2fe504e374b1a961fb34b308a6f55": {
          "model_module": "@jupyter-widgets/controls",
          "model_name": "FloatProgressModel",
          "model_module_version": "1.5.0",
          "state": {
            "_dom_classes": [],
            "_model_module": "@jupyter-widgets/controls",
            "_model_module_version": "1.5.0",
            "_model_name": "FloatProgressModel",
            "_view_count": null,
            "_view_module": "@jupyter-widgets/controls",
            "_view_module_version": "1.5.0",
            "_view_name": "ProgressView",
            "bar_style": "success",
            "description": "",
            "description_tooltip": null,
            "layout": "IPY_MODEL_e9404001969c4c8aab3f7f881e82c561",
            "max": 1432,
            "min": 0,
            "orientation": "horizontal",
            "style": "IPY_MODEL_d689dee4281f44a583e9288d45a4ad4e",
            "value": 1432
          }
        },
        "2b0d7659c6bf455ba4e6d7d8f9caa27d": {
          "model_module": "@jupyter-widgets/controls",
          "model_name": "HTMLModel",
          "model_module_version": "1.5.0",
          "state": {
            "_dom_classes": [],
            "_model_module": "@jupyter-widgets/controls",
            "_model_module_version": "1.5.0",
            "_model_name": "HTMLModel",
            "_view_count": null,
            "_view_module": "@jupyter-widgets/controls",
            "_view_module_version": "1.5.0",
            "_view_name": "HTMLView",
            "description": "",
            "description_tooltip": null,
            "layout": "IPY_MODEL_a4bf070dd1ed480f99f1ed828bbeaced",
            "placeholder": "​",
            "style": "IPY_MODEL_aa6fe8018f1741699b5b4c5721c56e0e",
            "value": " 1.43k/1.43k [00:00&lt;00:00, 38.8kB/s]"
          }
        },
        "bef6f89415b641acb378b3203e4f0288": {
          "model_module": "@jupyter-widgets/base",
          "model_name": "LayoutModel",
          "model_module_version": "1.2.0",
          "state": {
            "_model_module": "@jupyter-widgets/base",
            "_model_module_version": "1.2.0",
            "_model_name": "LayoutModel",
            "_view_count": null,
            "_view_module": "@jupyter-widgets/base",
            "_view_module_version": "1.2.0",
            "_view_name": "LayoutView",
            "align_content": null,
            "align_items": null,
            "align_self": null,
            "border": null,
            "bottom": null,
            "display": null,
            "flex": null,
            "flex_flow": null,
            "grid_area": null,
            "grid_auto_columns": null,
            "grid_auto_flow": null,
            "grid_auto_rows": null,
            "grid_column": null,
            "grid_gap": null,
            "grid_row": null,
            "grid_template_areas": null,
            "grid_template_columns": null,
            "grid_template_rows": null,
            "height": null,
            "justify_content": null,
            "justify_items": null,
            "left": null,
            "margin": null,
            "max_height": null,
            "max_width": null,
            "min_height": null,
            "min_width": null,
            "object_fit": null,
            "object_position": null,
            "order": null,
            "overflow": null,
            "overflow_x": null,
            "overflow_y": null,
            "padding": null,
            "right": null,
            "top": null,
            "visibility": null,
            "width": null
          }
        },
        "e663cb0b862a4545bfe2ac4b533b4802": {
          "model_module": "@jupyter-widgets/base",
          "model_name": "LayoutModel",
          "model_module_version": "1.2.0",
          "state": {
            "_model_module": "@jupyter-widgets/base",
            "_model_module_version": "1.2.0",
            "_model_name": "LayoutModel",
            "_view_count": null,
            "_view_module": "@jupyter-widgets/base",
            "_view_module_version": "1.2.0",
            "_view_name": "LayoutView",
            "align_content": null,
            "align_items": null,
            "align_self": null,
            "border": null,
            "bottom": null,
            "display": null,
            "flex": null,
            "flex_flow": null,
            "grid_area": null,
            "grid_auto_columns": null,
            "grid_auto_flow": null,
            "grid_auto_rows": null,
            "grid_column": null,
            "grid_gap": null,
            "grid_row": null,
            "grid_template_areas": null,
            "grid_template_columns": null,
            "grid_template_rows": null,
            "height": null,
            "justify_content": null,
            "justify_items": null,
            "left": null,
            "margin": null,
            "max_height": null,
            "max_width": null,
            "min_height": null,
            "min_width": null,
            "object_fit": null,
            "object_position": null,
            "order": null,
            "overflow": null,
            "overflow_x": null,
            "overflow_y": null,
            "padding": null,
            "right": null,
            "top": null,
            "visibility": null,
            "width": null
          }
        },
        "d609d4af852f42e4959b9b491afb3cf9": {
          "model_module": "@jupyter-widgets/controls",
          "model_name": "DescriptionStyleModel",
          "model_module_version": "1.5.0",
          "state": {
            "_model_module": "@jupyter-widgets/controls",
            "_model_module_version": "1.5.0",
            "_model_name": "DescriptionStyleModel",
            "_view_count": null,
            "_view_module": "@jupyter-widgets/base",
            "_view_module_version": "1.2.0",
            "_view_name": "StyleView",
            "description_width": ""
          }
        },
        "e9404001969c4c8aab3f7f881e82c561": {
          "model_module": "@jupyter-widgets/base",
          "model_name": "LayoutModel",
          "model_module_version": "1.2.0",
          "state": {
            "_model_module": "@jupyter-widgets/base",
            "_model_module_version": "1.2.0",
            "_model_name": "LayoutModel",
            "_view_count": null,
            "_view_module": "@jupyter-widgets/base",
            "_view_module_version": "1.2.0",
            "_view_name": "LayoutView",
            "align_content": null,
            "align_items": null,
            "align_self": null,
            "border": null,
            "bottom": null,
            "display": null,
            "flex": null,
            "flex_flow": null,
            "grid_area": null,
            "grid_auto_columns": null,
            "grid_auto_flow": null,
            "grid_auto_rows": null,
            "grid_column": null,
            "grid_gap": null,
            "grid_row": null,
            "grid_template_areas": null,
            "grid_template_columns": null,
            "grid_template_rows": null,
            "height": null,
            "justify_content": null,
            "justify_items": null,
            "left": null,
            "margin": null,
            "max_height": null,
            "max_width": null,
            "min_height": null,
            "min_width": null,
            "object_fit": null,
            "object_position": null,
            "order": null,
            "overflow": null,
            "overflow_x": null,
            "overflow_y": null,
            "padding": null,
            "right": null,
            "top": null,
            "visibility": null,
            "width": null
          }
        },
        "d689dee4281f44a583e9288d45a4ad4e": {
          "model_module": "@jupyter-widgets/controls",
          "model_name": "ProgressStyleModel",
          "model_module_version": "1.5.0",
          "state": {
            "_model_module": "@jupyter-widgets/controls",
            "_model_module_version": "1.5.0",
            "_model_name": "ProgressStyleModel",
            "_view_count": null,
            "_view_module": "@jupyter-widgets/base",
            "_view_module_version": "1.2.0",
            "_view_name": "StyleView",
            "bar_color": null,
            "description_width": ""
          }
        },
        "a4bf070dd1ed480f99f1ed828bbeaced": {
          "model_module": "@jupyter-widgets/base",
          "model_name": "LayoutModel",
          "model_module_version": "1.2.0",
          "state": {
            "_model_module": "@jupyter-widgets/base",
            "_model_module_version": "1.2.0",
            "_model_name": "LayoutModel",
            "_view_count": null,
            "_view_module": "@jupyter-widgets/base",
            "_view_module_version": "1.2.0",
            "_view_name": "LayoutView",
            "align_content": null,
            "align_items": null,
            "align_self": null,
            "border": null,
            "bottom": null,
            "display": null,
            "flex": null,
            "flex_flow": null,
            "grid_area": null,
            "grid_auto_columns": null,
            "grid_auto_flow": null,
            "grid_auto_rows": null,
            "grid_column": null,
            "grid_gap": null,
            "grid_row": null,
            "grid_template_areas": null,
            "grid_template_columns": null,
            "grid_template_rows": null,
            "height": null,
            "justify_content": null,
            "justify_items": null,
            "left": null,
            "margin": null,
            "max_height": null,
            "max_width": null,
            "min_height": null,
            "min_width": null,
            "object_fit": null,
            "object_position": null,
            "order": null,
            "overflow": null,
            "overflow_x": null,
            "overflow_y": null,
            "padding": null,
            "right": null,
            "top": null,
            "visibility": null,
            "width": null
          }
        },
        "aa6fe8018f1741699b5b4c5721c56e0e": {
          "model_module": "@jupyter-widgets/controls",
          "model_name": "DescriptionStyleModel",
          "model_module_version": "1.5.0",
          "state": {
            "_model_module": "@jupyter-widgets/controls",
            "_model_module_version": "1.5.0",
            "_model_name": "DescriptionStyleModel",
            "_view_count": null,
            "_view_module": "@jupyter-widgets/base",
            "_view_module_version": "1.2.0",
            "_view_name": "StyleView",
            "description_width": ""
          }
        },
        "93fb8be36b904369bbc8ea3277206dbe": {
          "model_module": "@jupyter-widgets/controls",
          "model_name": "HBoxModel",
          "model_module_version": "1.5.0",
          "state": {
            "_dom_classes": [],
            "_model_module": "@jupyter-widgets/controls",
            "_model_module_version": "1.5.0",
            "_model_name": "HBoxModel",
            "_view_count": null,
            "_view_module": "@jupyter-widgets/controls",
            "_view_module_version": "1.5.0",
            "_view_name": "HBoxView",
            "box_style": "",
            "children": [
              "IPY_MODEL_293b52e6d2a9434d8da12fbe8f825978",
              "IPY_MODEL_9d9973ae4b224931a1e2fe07ecbb48d7",
              "IPY_MODEL_21e3eeeef41046c5a26947d401f8495f"
            ],
            "layout": "IPY_MODEL_fe6cac73beaa439cb7932df8792fc55d"
          }
        },
        "293b52e6d2a9434d8da12fbe8f825978": {
          "model_module": "@jupyter-widgets/controls",
          "model_name": "HTMLModel",
          "model_module_version": "1.5.0",
          "state": {
            "_dom_classes": [],
            "_model_module": "@jupyter-widgets/controls",
            "_model_module_version": "1.5.0",
            "_model_name": "HTMLModel",
            "_view_count": null,
            "_view_module": "@jupyter-widgets/controls",
            "_view_module_version": "1.5.0",
            "_view_name": "HTMLView",
            "description": "",
            "description_tooltip": null,
            "layout": "IPY_MODEL_58a7d30d963b47828a64aa2af353284e",
            "placeholder": "​",
            "style": "IPY_MODEL_279c445a94074668929f04869e8b9966",
            "value": "Downloading (…)olve/main/vocab.json: 100%"
          }
        },
        "9d9973ae4b224931a1e2fe07ecbb48d7": {
          "model_module": "@jupyter-widgets/controls",
          "model_name": "FloatProgressModel",
          "model_module_version": "1.5.0",
          "state": {
            "_dom_classes": [],
            "_model_module": "@jupyter-widgets/controls",
            "_model_module_version": "1.5.0",
            "_model_name": "FloatProgressModel",
            "_view_count": null,
            "_view_module": "@jupyter-widgets/controls",
            "_view_module_version": "1.5.0",
            "_view_name": "ProgressView",
            "bar_style": "success",
            "description": "",
            "description_tooltip": null,
            "layout": "IPY_MODEL_8dd6fd7004a6422383bad88b237d47a2",
            "max": 898822,
            "min": 0,
            "orientation": "horizontal",
            "style": "IPY_MODEL_ec4268d7e4644131ade5f658c173a029",
            "value": 898822
          }
        },
        "21e3eeeef41046c5a26947d401f8495f": {
          "model_module": "@jupyter-widgets/controls",
          "model_name": "HTMLModel",
          "model_module_version": "1.5.0",
          "state": {
            "_dom_classes": [],
            "_model_module": "@jupyter-widgets/controls",
            "_model_module_version": "1.5.0",
            "_model_name": "HTMLModel",
            "_view_count": null,
            "_view_module": "@jupyter-widgets/controls",
            "_view_module_version": "1.5.0",
            "_view_name": "HTMLView",
            "description": "",
            "description_tooltip": null,
            "layout": "IPY_MODEL_ecddebdd1cd045eeb07593a95b084bd8",
            "placeholder": "​",
            "style": "IPY_MODEL_a70ea74660a34b43abd1bbe3680ef8e8",
            "value": " 899k/899k [00:00&lt;00:00, 5.97MB/s]"
          }
        },
        "fe6cac73beaa439cb7932df8792fc55d": {
          "model_module": "@jupyter-widgets/base",
          "model_name": "LayoutModel",
          "model_module_version": "1.2.0",
          "state": {
            "_model_module": "@jupyter-widgets/base",
            "_model_module_version": "1.2.0",
            "_model_name": "LayoutModel",
            "_view_count": null,
            "_view_module": "@jupyter-widgets/base",
            "_view_module_version": "1.2.0",
            "_view_name": "LayoutView",
            "align_content": null,
            "align_items": null,
            "align_self": null,
            "border": null,
            "bottom": null,
            "display": null,
            "flex": null,
            "flex_flow": null,
            "grid_area": null,
            "grid_auto_columns": null,
            "grid_auto_flow": null,
            "grid_auto_rows": null,
            "grid_column": null,
            "grid_gap": null,
            "grid_row": null,
            "grid_template_areas": null,
            "grid_template_columns": null,
            "grid_template_rows": null,
            "height": null,
            "justify_content": null,
            "justify_items": null,
            "left": null,
            "margin": null,
            "max_height": null,
            "max_width": null,
            "min_height": null,
            "min_width": null,
            "object_fit": null,
            "object_position": null,
            "order": null,
            "overflow": null,
            "overflow_x": null,
            "overflow_y": null,
            "padding": null,
            "right": null,
            "top": null,
            "visibility": null,
            "width": null
          }
        },
        "58a7d30d963b47828a64aa2af353284e": {
          "model_module": "@jupyter-widgets/base",
          "model_name": "LayoutModel",
          "model_module_version": "1.2.0",
          "state": {
            "_model_module": "@jupyter-widgets/base",
            "_model_module_version": "1.2.0",
            "_model_name": "LayoutModel",
            "_view_count": null,
            "_view_module": "@jupyter-widgets/base",
            "_view_module_version": "1.2.0",
            "_view_name": "LayoutView",
            "align_content": null,
            "align_items": null,
            "align_self": null,
            "border": null,
            "bottom": null,
            "display": null,
            "flex": null,
            "flex_flow": null,
            "grid_area": null,
            "grid_auto_columns": null,
            "grid_auto_flow": null,
            "grid_auto_rows": null,
            "grid_column": null,
            "grid_gap": null,
            "grid_row": null,
            "grid_template_areas": null,
            "grid_template_columns": null,
            "grid_template_rows": null,
            "height": null,
            "justify_content": null,
            "justify_items": null,
            "left": null,
            "margin": null,
            "max_height": null,
            "max_width": null,
            "min_height": null,
            "min_width": null,
            "object_fit": null,
            "object_position": null,
            "order": null,
            "overflow": null,
            "overflow_x": null,
            "overflow_y": null,
            "padding": null,
            "right": null,
            "top": null,
            "visibility": null,
            "width": null
          }
        },
        "279c445a94074668929f04869e8b9966": {
          "model_module": "@jupyter-widgets/controls",
          "model_name": "DescriptionStyleModel",
          "model_module_version": "1.5.0",
          "state": {
            "_model_module": "@jupyter-widgets/controls",
            "_model_module_version": "1.5.0",
            "_model_name": "DescriptionStyleModel",
            "_view_count": null,
            "_view_module": "@jupyter-widgets/base",
            "_view_module_version": "1.2.0",
            "_view_name": "StyleView",
            "description_width": ""
          }
        },
        "8dd6fd7004a6422383bad88b237d47a2": {
          "model_module": "@jupyter-widgets/base",
          "model_name": "LayoutModel",
          "model_module_version": "1.2.0",
          "state": {
            "_model_module": "@jupyter-widgets/base",
            "_model_module_version": "1.2.0",
            "_model_name": "LayoutModel",
            "_view_count": null,
            "_view_module": "@jupyter-widgets/base",
            "_view_module_version": "1.2.0",
            "_view_name": "LayoutView",
            "align_content": null,
            "align_items": null,
            "align_self": null,
            "border": null,
            "bottom": null,
            "display": null,
            "flex": null,
            "flex_flow": null,
            "grid_area": null,
            "grid_auto_columns": null,
            "grid_auto_flow": null,
            "grid_auto_rows": null,
            "grid_column": null,
            "grid_gap": null,
            "grid_row": null,
            "grid_template_areas": null,
            "grid_template_columns": null,
            "grid_template_rows": null,
            "height": null,
            "justify_content": null,
            "justify_items": null,
            "left": null,
            "margin": null,
            "max_height": null,
            "max_width": null,
            "min_height": null,
            "min_width": null,
            "object_fit": null,
            "object_position": null,
            "order": null,
            "overflow": null,
            "overflow_x": null,
            "overflow_y": null,
            "padding": null,
            "right": null,
            "top": null,
            "visibility": null,
            "width": null
          }
        },
        "ec4268d7e4644131ade5f658c173a029": {
          "model_module": "@jupyter-widgets/controls",
          "model_name": "ProgressStyleModel",
          "model_module_version": "1.5.0",
          "state": {
            "_model_module": "@jupyter-widgets/controls",
            "_model_module_version": "1.5.0",
            "_model_name": "ProgressStyleModel",
            "_view_count": null,
            "_view_module": "@jupyter-widgets/base",
            "_view_module_version": "1.2.0",
            "_view_name": "StyleView",
            "bar_color": null,
            "description_width": ""
          }
        },
        "ecddebdd1cd045eeb07593a95b084bd8": {
          "model_module": "@jupyter-widgets/base",
          "model_name": "LayoutModel",
          "model_module_version": "1.2.0",
          "state": {
            "_model_module": "@jupyter-widgets/base",
            "_model_module_version": "1.2.0",
            "_model_name": "LayoutModel",
            "_view_count": null,
            "_view_module": "@jupyter-widgets/base",
            "_view_module_version": "1.2.0",
            "_view_name": "LayoutView",
            "align_content": null,
            "align_items": null,
            "align_self": null,
            "border": null,
            "bottom": null,
            "display": null,
            "flex": null,
            "flex_flow": null,
            "grid_area": null,
            "grid_auto_columns": null,
            "grid_auto_flow": null,
            "grid_auto_rows": null,
            "grid_column": null,
            "grid_gap": null,
            "grid_row": null,
            "grid_template_areas": null,
            "grid_template_columns": null,
            "grid_template_rows": null,
            "height": null,
            "justify_content": null,
            "justify_items": null,
            "left": null,
            "margin": null,
            "max_height": null,
            "max_width": null,
            "min_height": null,
            "min_width": null,
            "object_fit": null,
            "object_position": null,
            "order": null,
            "overflow": null,
            "overflow_x": null,
            "overflow_y": null,
            "padding": null,
            "right": null,
            "top": null,
            "visibility": null,
            "width": null
          }
        },
        "a70ea74660a34b43abd1bbe3680ef8e8": {
          "model_module": "@jupyter-widgets/controls",
          "model_name": "DescriptionStyleModel",
          "model_module_version": "1.5.0",
          "state": {
            "_model_module": "@jupyter-widgets/controls",
            "_model_module_version": "1.5.0",
            "_model_name": "DescriptionStyleModel",
            "_view_count": null,
            "_view_module": "@jupyter-widgets/base",
            "_view_module_version": "1.2.0",
            "_view_name": "StyleView",
            "description_width": ""
          }
        },
        "6228ba911fb04bf881ddc75abfa04714": {
          "model_module": "@jupyter-widgets/controls",
          "model_name": "HBoxModel",
          "model_module_version": "1.5.0",
          "state": {
            "_dom_classes": [],
            "_model_module": "@jupyter-widgets/controls",
            "_model_module_version": "1.5.0",
            "_model_name": "HBoxModel",
            "_view_count": null,
            "_view_module": "@jupyter-widgets/controls",
            "_view_module_version": "1.5.0",
            "_view_name": "HBoxView",
            "box_style": "",
            "children": [
              "IPY_MODEL_cd1fb133f98f4894906b4f56e49d51e7",
              "IPY_MODEL_4cb9687d6fdd460aae22271e07a98293",
              "IPY_MODEL_7dfbd522de434b09ae3158d5a1e865ee"
            ],
            "layout": "IPY_MODEL_6e335315dd2040aa8a87297111e2cc0f"
          }
        },
        "cd1fb133f98f4894906b4f56e49d51e7": {
          "model_module": "@jupyter-widgets/controls",
          "model_name": "HTMLModel",
          "model_module_version": "1.5.0",
          "state": {
            "_dom_classes": [],
            "_model_module": "@jupyter-widgets/controls",
            "_model_module_version": "1.5.0",
            "_model_name": "HTMLModel",
            "_view_count": null,
            "_view_module": "@jupyter-widgets/controls",
            "_view_module_version": "1.5.0",
            "_view_name": "HTMLView",
            "description": "",
            "description_tooltip": null,
            "layout": "IPY_MODEL_ea9a567fe48545b38d16484ef9d153bd",
            "placeholder": "​",
            "style": "IPY_MODEL_8dfebc94278f4688bbd0c89cd7a68355",
            "value": "Downloading (…)olve/main/merges.txt: 100%"
          }
        },
        "4cb9687d6fdd460aae22271e07a98293": {
          "model_module": "@jupyter-widgets/controls",
          "model_name": "FloatProgressModel",
          "model_module_version": "1.5.0",
          "state": {
            "_dom_classes": [],
            "_model_module": "@jupyter-widgets/controls",
            "_model_module_version": "1.5.0",
            "_model_name": "FloatProgressModel",
            "_view_count": null,
            "_view_module": "@jupyter-widgets/controls",
            "_view_module_version": "1.5.0",
            "_view_name": "ProgressView",
            "bar_style": "success",
            "description": "",
            "description_tooltip": null,
            "layout": "IPY_MODEL_b9e152dcac524381b22d8648195176ee",
            "max": 456318,
            "min": 0,
            "orientation": "horizontal",
            "style": "IPY_MODEL_90c65098059b473eac49f7395783f442",
            "value": 456318
          }
        },
        "7dfbd522de434b09ae3158d5a1e865ee": {
          "model_module": "@jupyter-widgets/controls",
          "model_name": "HTMLModel",
          "model_module_version": "1.5.0",
          "state": {
            "_dom_classes": [],
            "_model_module": "@jupyter-widgets/controls",
            "_model_module_version": "1.5.0",
            "_model_name": "HTMLModel",
            "_view_count": null,
            "_view_module": "@jupyter-widgets/controls",
            "_view_module_version": "1.5.0",
            "_view_name": "HTMLView",
            "description": "",
            "description_tooltip": null,
            "layout": "IPY_MODEL_5389f523f40e40a9b5135d715f63734a",
            "placeholder": "​",
            "style": "IPY_MODEL_a1ba48366b8f46f5bc5e33b539314549",
            "value": " 456k/456k [00:00&lt;00:00, 3.09MB/s]"
          }
        },
        "6e335315dd2040aa8a87297111e2cc0f": {
          "model_module": "@jupyter-widgets/base",
          "model_name": "LayoutModel",
          "model_module_version": "1.2.0",
          "state": {
            "_model_module": "@jupyter-widgets/base",
            "_model_module_version": "1.2.0",
            "_model_name": "LayoutModel",
            "_view_count": null,
            "_view_module": "@jupyter-widgets/base",
            "_view_module_version": "1.2.0",
            "_view_name": "LayoutView",
            "align_content": null,
            "align_items": null,
            "align_self": null,
            "border": null,
            "bottom": null,
            "display": null,
            "flex": null,
            "flex_flow": null,
            "grid_area": null,
            "grid_auto_columns": null,
            "grid_auto_flow": null,
            "grid_auto_rows": null,
            "grid_column": null,
            "grid_gap": null,
            "grid_row": null,
            "grid_template_areas": null,
            "grid_template_columns": null,
            "grid_template_rows": null,
            "height": null,
            "justify_content": null,
            "justify_items": null,
            "left": null,
            "margin": null,
            "max_height": null,
            "max_width": null,
            "min_height": null,
            "min_width": null,
            "object_fit": null,
            "object_position": null,
            "order": null,
            "overflow": null,
            "overflow_x": null,
            "overflow_y": null,
            "padding": null,
            "right": null,
            "top": null,
            "visibility": null,
            "width": null
          }
        },
        "ea9a567fe48545b38d16484ef9d153bd": {
          "model_module": "@jupyter-widgets/base",
          "model_name": "LayoutModel",
          "model_module_version": "1.2.0",
          "state": {
            "_model_module": "@jupyter-widgets/base",
            "_model_module_version": "1.2.0",
            "_model_name": "LayoutModel",
            "_view_count": null,
            "_view_module": "@jupyter-widgets/base",
            "_view_module_version": "1.2.0",
            "_view_name": "LayoutView",
            "align_content": null,
            "align_items": null,
            "align_self": null,
            "border": null,
            "bottom": null,
            "display": null,
            "flex": null,
            "flex_flow": null,
            "grid_area": null,
            "grid_auto_columns": null,
            "grid_auto_flow": null,
            "grid_auto_rows": null,
            "grid_column": null,
            "grid_gap": null,
            "grid_row": null,
            "grid_template_areas": null,
            "grid_template_columns": null,
            "grid_template_rows": null,
            "height": null,
            "justify_content": null,
            "justify_items": null,
            "left": null,
            "margin": null,
            "max_height": null,
            "max_width": null,
            "min_height": null,
            "min_width": null,
            "object_fit": null,
            "object_position": null,
            "order": null,
            "overflow": null,
            "overflow_x": null,
            "overflow_y": null,
            "padding": null,
            "right": null,
            "top": null,
            "visibility": null,
            "width": null
          }
        },
        "8dfebc94278f4688bbd0c89cd7a68355": {
          "model_module": "@jupyter-widgets/controls",
          "model_name": "DescriptionStyleModel",
          "model_module_version": "1.5.0",
          "state": {
            "_model_module": "@jupyter-widgets/controls",
            "_model_module_version": "1.5.0",
            "_model_name": "DescriptionStyleModel",
            "_view_count": null,
            "_view_module": "@jupyter-widgets/base",
            "_view_module_version": "1.2.0",
            "_view_name": "StyleView",
            "description_width": ""
          }
        },
        "b9e152dcac524381b22d8648195176ee": {
          "model_module": "@jupyter-widgets/base",
          "model_name": "LayoutModel",
          "model_module_version": "1.2.0",
          "state": {
            "_model_module": "@jupyter-widgets/base",
            "_model_module_version": "1.2.0",
            "_model_name": "LayoutModel",
            "_view_count": null,
            "_view_module": "@jupyter-widgets/base",
            "_view_module_version": "1.2.0",
            "_view_name": "LayoutView",
            "align_content": null,
            "align_items": null,
            "align_self": null,
            "border": null,
            "bottom": null,
            "display": null,
            "flex": null,
            "flex_flow": null,
            "grid_area": null,
            "grid_auto_columns": null,
            "grid_auto_flow": null,
            "grid_auto_rows": null,
            "grid_column": null,
            "grid_gap": null,
            "grid_row": null,
            "grid_template_areas": null,
            "grid_template_columns": null,
            "grid_template_rows": null,
            "height": null,
            "justify_content": null,
            "justify_items": null,
            "left": null,
            "margin": null,
            "max_height": null,
            "max_width": null,
            "min_height": null,
            "min_width": null,
            "object_fit": null,
            "object_position": null,
            "order": null,
            "overflow": null,
            "overflow_x": null,
            "overflow_y": null,
            "padding": null,
            "right": null,
            "top": null,
            "visibility": null,
            "width": null
          }
        },
        "90c65098059b473eac49f7395783f442": {
          "model_module": "@jupyter-widgets/controls",
          "model_name": "ProgressStyleModel",
          "model_module_version": "1.5.0",
          "state": {
            "_model_module": "@jupyter-widgets/controls",
            "_model_module_version": "1.5.0",
            "_model_name": "ProgressStyleModel",
            "_view_count": null,
            "_view_module": "@jupyter-widgets/base",
            "_view_module_version": "1.2.0",
            "_view_name": "StyleView",
            "bar_color": null,
            "description_width": ""
          }
        },
        "5389f523f40e40a9b5135d715f63734a": {
          "model_module": "@jupyter-widgets/base",
          "model_name": "LayoutModel",
          "model_module_version": "1.2.0",
          "state": {
            "_model_module": "@jupyter-widgets/base",
            "_model_module_version": "1.2.0",
            "_model_name": "LayoutModel",
            "_view_count": null,
            "_view_module": "@jupyter-widgets/base",
            "_view_module_version": "1.2.0",
            "_view_name": "LayoutView",
            "align_content": null,
            "align_items": null,
            "align_self": null,
            "border": null,
            "bottom": null,
            "display": null,
            "flex": null,
            "flex_flow": null,
            "grid_area": null,
            "grid_auto_columns": null,
            "grid_auto_flow": null,
            "grid_auto_rows": null,
            "grid_column": null,
            "grid_gap": null,
            "grid_row": null,
            "grid_template_areas": null,
            "grid_template_columns": null,
            "grid_template_rows": null,
            "height": null,
            "justify_content": null,
            "justify_items": null,
            "left": null,
            "margin": null,
            "max_height": null,
            "max_width": null,
            "min_height": null,
            "min_width": null,
            "object_fit": null,
            "object_position": null,
            "order": null,
            "overflow": null,
            "overflow_x": null,
            "overflow_y": null,
            "padding": null,
            "right": null,
            "top": null,
            "visibility": null,
            "width": null
          }
        },
        "a1ba48366b8f46f5bc5e33b539314549": {
          "model_module": "@jupyter-widgets/controls",
          "model_name": "DescriptionStyleModel",
          "model_module_version": "1.5.0",
          "state": {
            "_model_module": "@jupyter-widgets/controls",
            "_model_module_version": "1.5.0",
            "_model_name": "DescriptionStyleModel",
            "_view_count": null,
            "_view_module": "@jupyter-widgets/base",
            "_view_module_version": "1.2.0",
            "_view_name": "StyleView",
            "description_width": ""
          }
        },
        "c5e458d8c43d4860af4df161b4903b1a": {
          "model_module": "@jupyter-widgets/controls",
          "model_name": "HBoxModel",
          "model_module_version": "1.5.0",
          "state": {
            "_dom_classes": [],
            "_model_module": "@jupyter-widgets/controls",
            "_model_module_version": "1.5.0",
            "_model_name": "HBoxModel",
            "_view_count": null,
            "_view_module": "@jupyter-widgets/controls",
            "_view_module_version": "1.5.0",
            "_view_name": "HBoxView",
            "box_style": "",
            "children": [
              "IPY_MODEL_2a3afb38bed24c4ca62f758765429fca",
              "IPY_MODEL_d692182ef5144965ade733cdb0174e1c",
              "IPY_MODEL_d6138f5c6a5746bda6bfc513dff0a402"
            ],
            "layout": "IPY_MODEL_a4307ec3894547c794856f531aad0ce0"
          }
        },
        "2a3afb38bed24c4ca62f758765429fca": {
          "model_module": "@jupyter-widgets/controls",
          "model_name": "HTMLModel",
          "model_module_version": "1.5.0",
          "state": {
            "_dom_classes": [],
            "_model_module": "@jupyter-widgets/controls",
            "_model_module_version": "1.5.0",
            "_model_name": "HTMLModel",
            "_view_count": null,
            "_view_module": "@jupyter-widgets/controls",
            "_view_module_version": "1.5.0",
            "_view_name": "HTMLView",
            "description": "",
            "description_tooltip": null,
            "layout": "IPY_MODEL_06008c5365ec497dbb197bd72ac1b42f",
            "placeholder": "​",
            "style": "IPY_MODEL_cfbd8358011d44d28c59a0daf313f987",
            "value": "Downloading (…)cial_tokens_map.json: 100%"
          }
        },
        "d692182ef5144965ade733cdb0174e1c": {
          "model_module": "@jupyter-widgets/controls",
          "model_name": "FloatProgressModel",
          "model_module_version": "1.5.0",
          "state": {
            "_dom_classes": [],
            "_model_module": "@jupyter-widgets/controls",
            "_model_module_version": "1.5.0",
            "_model_name": "FloatProgressModel",
            "_view_count": null,
            "_view_module": "@jupyter-widgets/controls",
            "_view_module_version": "1.5.0",
            "_view_name": "ProgressView",
            "bar_style": "success",
            "description": "",
            "description_tooltip": null,
            "layout": "IPY_MODEL_accf9b508365438d900244da5a2a21f7",
            "max": 150,
            "min": 0,
            "orientation": "horizontal",
            "style": "IPY_MODEL_faa6fdc940284bdeb4e94619f182b93b",
            "value": 150
          }
        },
        "d6138f5c6a5746bda6bfc513dff0a402": {
          "model_module": "@jupyter-widgets/controls",
          "model_name": "HTMLModel",
          "model_module_version": "1.5.0",
          "state": {
            "_dom_classes": [],
            "_model_module": "@jupyter-widgets/controls",
            "_model_module_version": "1.5.0",
            "_model_name": "HTMLModel",
            "_view_count": null,
            "_view_module": "@jupyter-widgets/controls",
            "_view_module_version": "1.5.0",
            "_view_name": "HTMLView",
            "description": "",
            "description_tooltip": null,
            "layout": "IPY_MODEL_c5620011674f45c09019a03337aac7fb",
            "placeholder": "​",
            "style": "IPY_MODEL_25abc4c3899e4d9f972d3b334d09d725",
            "value": " 150/150 [00:00&lt;00:00, 2.75kB/s]"
          }
        },
        "a4307ec3894547c794856f531aad0ce0": {
          "model_module": "@jupyter-widgets/base",
          "model_name": "LayoutModel",
          "model_module_version": "1.2.0",
          "state": {
            "_model_module": "@jupyter-widgets/base",
            "_model_module_version": "1.2.0",
            "_model_name": "LayoutModel",
            "_view_count": null,
            "_view_module": "@jupyter-widgets/base",
            "_view_module_version": "1.2.0",
            "_view_name": "LayoutView",
            "align_content": null,
            "align_items": null,
            "align_self": null,
            "border": null,
            "bottom": null,
            "display": null,
            "flex": null,
            "flex_flow": null,
            "grid_area": null,
            "grid_auto_columns": null,
            "grid_auto_flow": null,
            "grid_auto_rows": null,
            "grid_column": null,
            "grid_gap": null,
            "grid_row": null,
            "grid_template_areas": null,
            "grid_template_columns": null,
            "grid_template_rows": null,
            "height": null,
            "justify_content": null,
            "justify_items": null,
            "left": null,
            "margin": null,
            "max_height": null,
            "max_width": null,
            "min_height": null,
            "min_width": null,
            "object_fit": null,
            "object_position": null,
            "order": null,
            "overflow": null,
            "overflow_x": null,
            "overflow_y": null,
            "padding": null,
            "right": null,
            "top": null,
            "visibility": null,
            "width": null
          }
        },
        "06008c5365ec497dbb197bd72ac1b42f": {
          "model_module": "@jupyter-widgets/base",
          "model_name": "LayoutModel",
          "model_module_version": "1.2.0",
          "state": {
            "_model_module": "@jupyter-widgets/base",
            "_model_module_version": "1.2.0",
            "_model_name": "LayoutModel",
            "_view_count": null,
            "_view_module": "@jupyter-widgets/base",
            "_view_module_version": "1.2.0",
            "_view_name": "LayoutView",
            "align_content": null,
            "align_items": null,
            "align_self": null,
            "border": null,
            "bottom": null,
            "display": null,
            "flex": null,
            "flex_flow": null,
            "grid_area": null,
            "grid_auto_columns": null,
            "grid_auto_flow": null,
            "grid_auto_rows": null,
            "grid_column": null,
            "grid_gap": null,
            "grid_row": null,
            "grid_template_areas": null,
            "grid_template_columns": null,
            "grid_template_rows": null,
            "height": null,
            "justify_content": null,
            "justify_items": null,
            "left": null,
            "margin": null,
            "max_height": null,
            "max_width": null,
            "min_height": null,
            "min_width": null,
            "object_fit": null,
            "object_position": null,
            "order": null,
            "overflow": null,
            "overflow_x": null,
            "overflow_y": null,
            "padding": null,
            "right": null,
            "top": null,
            "visibility": null,
            "width": null
          }
        },
        "cfbd8358011d44d28c59a0daf313f987": {
          "model_module": "@jupyter-widgets/controls",
          "model_name": "DescriptionStyleModel",
          "model_module_version": "1.5.0",
          "state": {
            "_model_module": "@jupyter-widgets/controls",
            "_model_module_version": "1.5.0",
            "_model_name": "DescriptionStyleModel",
            "_view_count": null,
            "_view_module": "@jupyter-widgets/base",
            "_view_module_version": "1.2.0",
            "_view_name": "StyleView",
            "description_width": ""
          }
        },
        "accf9b508365438d900244da5a2a21f7": {
          "model_module": "@jupyter-widgets/base",
          "model_name": "LayoutModel",
          "model_module_version": "1.2.0",
          "state": {
            "_model_module": "@jupyter-widgets/base",
            "_model_module_version": "1.2.0",
            "_model_name": "LayoutModel",
            "_view_count": null,
            "_view_module": "@jupyter-widgets/base",
            "_view_module_version": "1.2.0",
            "_view_name": "LayoutView",
            "align_content": null,
            "align_items": null,
            "align_self": null,
            "border": null,
            "bottom": null,
            "display": null,
            "flex": null,
            "flex_flow": null,
            "grid_area": null,
            "grid_auto_columns": null,
            "grid_auto_flow": null,
            "grid_auto_rows": null,
            "grid_column": null,
            "grid_gap": null,
            "grid_row": null,
            "grid_template_areas": null,
            "grid_template_columns": null,
            "grid_template_rows": null,
            "height": null,
            "justify_content": null,
            "justify_items": null,
            "left": null,
            "margin": null,
            "max_height": null,
            "max_width": null,
            "min_height": null,
            "min_width": null,
            "object_fit": null,
            "object_position": null,
            "order": null,
            "overflow": null,
            "overflow_x": null,
            "overflow_y": null,
            "padding": null,
            "right": null,
            "top": null,
            "visibility": null,
            "width": null
          }
        },
        "faa6fdc940284bdeb4e94619f182b93b": {
          "model_module": "@jupyter-widgets/controls",
          "model_name": "ProgressStyleModel",
          "model_module_version": "1.5.0",
          "state": {
            "_model_module": "@jupyter-widgets/controls",
            "_model_module_version": "1.5.0",
            "_model_name": "ProgressStyleModel",
            "_view_count": null,
            "_view_module": "@jupyter-widgets/base",
            "_view_module_version": "1.2.0",
            "_view_name": "StyleView",
            "bar_color": null,
            "description_width": ""
          }
        },
        "c5620011674f45c09019a03337aac7fb": {
          "model_module": "@jupyter-widgets/base",
          "model_name": "LayoutModel",
          "model_module_version": "1.2.0",
          "state": {
            "_model_module": "@jupyter-widgets/base",
            "_model_module_version": "1.2.0",
            "_model_name": "LayoutModel",
            "_view_count": null,
            "_view_module": "@jupyter-widgets/base",
            "_view_module_version": "1.2.0",
            "_view_name": "LayoutView",
            "align_content": null,
            "align_items": null,
            "align_self": null,
            "border": null,
            "bottom": null,
            "display": null,
            "flex": null,
            "flex_flow": null,
            "grid_area": null,
            "grid_auto_columns": null,
            "grid_auto_flow": null,
            "grid_auto_rows": null,
            "grid_column": null,
            "grid_gap": null,
            "grid_row": null,
            "grid_template_areas": null,
            "grid_template_columns": null,
            "grid_template_rows": null,
            "height": null,
            "justify_content": null,
            "justify_items": null,
            "left": null,
            "margin": null,
            "max_height": null,
            "max_width": null,
            "min_height": null,
            "min_width": null,
            "object_fit": null,
            "object_position": null,
            "order": null,
            "overflow": null,
            "overflow_x": null,
            "overflow_y": null,
            "padding": null,
            "right": null,
            "top": null,
            "visibility": null,
            "width": null
          }
        },
        "25abc4c3899e4d9f972d3b334d09d725": {
          "model_module": "@jupyter-widgets/controls",
          "model_name": "DescriptionStyleModel",
          "model_module_version": "1.5.0",
          "state": {
            "_model_module": "@jupyter-widgets/controls",
            "_model_module_version": "1.5.0",
            "_model_name": "DescriptionStyleModel",
            "_view_count": null,
            "_view_module": "@jupyter-widgets/base",
            "_view_module_version": "1.2.0",
            "_view_name": "StyleView",
            "description_width": ""
          }
        },
        "bd6b7e27bd1e45ad9a2ac259be90b5b1": {
          "model_module": "@jupyter-widgets/controls",
          "model_name": "HBoxModel",
          "model_module_version": "1.5.0",
          "state": {
            "_dom_classes": [],
            "_model_module": "@jupyter-widgets/controls",
            "_model_module_version": "1.5.0",
            "_model_name": "HBoxModel",
            "_view_count": null,
            "_view_module": "@jupyter-widgets/controls",
            "_view_module_version": "1.5.0",
            "_view_name": "HBoxView",
            "box_style": "",
            "children": [
              "IPY_MODEL_e7b5ce40a3724c62bc933d0d0054c0a3",
              "IPY_MODEL_ba831d703d04483da4e4480bf87e5fd6",
              "IPY_MODEL_9c9fb8cc2e5a4e9f80248aef5d834bdc"
            ],
            "layout": "IPY_MODEL_ef10fb5dfc38447daada051f78bab7dd"
          }
        },
        "e7b5ce40a3724c62bc933d0d0054c0a3": {
          "model_module": "@jupyter-widgets/controls",
          "model_name": "HTMLModel",
          "model_module_version": "1.5.0",
          "state": {
            "_dom_classes": [],
            "_model_module": "@jupyter-widgets/controls",
            "_model_module_version": "1.5.0",
            "_model_name": "HTMLModel",
            "_view_count": null,
            "_view_module": "@jupyter-widgets/controls",
            "_view_module_version": "1.5.0",
            "_view_name": "HTMLView",
            "description": "",
            "description_tooltip": null,
            "layout": "IPY_MODEL_07c24ec4ad6849de868f6d98b21d48c5",
            "placeholder": "​",
            "style": "IPY_MODEL_00cb6626b7514f94ad23e60ed04d3019",
            "value": "Downloading (…)&quot;pytorch_model.bin&quot;;: 100%"
          }
        },
        "ba831d703d04483da4e4480bf87e5fd6": {
          "model_module": "@jupyter-widgets/controls",
          "model_name": "FloatProgressModel",
          "model_module_version": "1.5.0",
          "state": {
            "_dom_classes": [],
            "_model_module": "@jupyter-widgets/controls",
            "_model_module_version": "1.5.0",
            "_model_name": "FloatProgressModel",
            "_view_count": null,
            "_view_module": "@jupyter-widgets/controls",
            "_view_module_version": "1.5.0",
            "_view_name": "ProgressView",
            "bar_style": "success",
            "description": "",
            "description_tooltip": null,
            "layout": "IPY_MODEL_831195eee083459a876904c0c4b3b4ad",
            "max": 1625285449,
            "min": 0,
            "orientation": "horizontal",
            "style": "IPY_MODEL_3488b06c782b4a8d96a6edc70d6636a9",
            "value": 1625285449
          }
        },
        "9c9fb8cc2e5a4e9f80248aef5d834bdc": {
          "model_module": "@jupyter-widgets/controls",
          "model_name": "HTMLModel",
          "model_module_version": "1.5.0",
          "state": {
            "_dom_classes": [],
            "_model_module": "@jupyter-widgets/controls",
            "_model_module_version": "1.5.0",
            "_model_name": "HTMLModel",
            "_view_count": null,
            "_view_module": "@jupyter-widgets/controls",
            "_view_module_version": "1.5.0",
            "_view_name": "HTMLView",
            "description": "",
            "description_tooltip": null,
            "layout": "IPY_MODEL_f50b6dc2062c46b0ba27a9f2ab1493ac",
            "placeholder": "​",
            "style": "IPY_MODEL_0e0dd23392174f489eb089e95a5bdc30",
            "value": " 1.63G/1.63G [00:44&lt;00:00, 33.1MB/s]"
          }
        },
        "ef10fb5dfc38447daada051f78bab7dd": {
          "model_module": "@jupyter-widgets/base",
          "model_name": "LayoutModel",
          "model_module_version": "1.2.0",
          "state": {
            "_model_module": "@jupyter-widgets/base",
            "_model_module_version": "1.2.0",
            "_model_name": "LayoutModel",
            "_view_count": null,
            "_view_module": "@jupyter-widgets/base",
            "_view_module_version": "1.2.0",
            "_view_name": "LayoutView",
            "align_content": null,
            "align_items": null,
            "align_self": null,
            "border": null,
            "bottom": null,
            "display": null,
            "flex": null,
            "flex_flow": null,
            "grid_area": null,
            "grid_auto_columns": null,
            "grid_auto_flow": null,
            "grid_auto_rows": null,
            "grid_column": null,
            "grid_gap": null,
            "grid_row": null,
            "grid_template_areas": null,
            "grid_template_columns": null,
            "grid_template_rows": null,
            "height": null,
            "justify_content": null,
            "justify_items": null,
            "left": null,
            "margin": null,
            "max_height": null,
            "max_width": null,
            "min_height": null,
            "min_width": null,
            "object_fit": null,
            "object_position": null,
            "order": null,
            "overflow": null,
            "overflow_x": null,
            "overflow_y": null,
            "padding": null,
            "right": null,
            "top": null,
            "visibility": null,
            "width": null
          }
        },
        "07c24ec4ad6849de868f6d98b21d48c5": {
          "model_module": "@jupyter-widgets/base",
          "model_name": "LayoutModel",
          "model_module_version": "1.2.0",
          "state": {
            "_model_module": "@jupyter-widgets/base",
            "_model_module_version": "1.2.0",
            "_model_name": "LayoutModel",
            "_view_count": null,
            "_view_module": "@jupyter-widgets/base",
            "_view_module_version": "1.2.0",
            "_view_name": "LayoutView",
            "align_content": null,
            "align_items": null,
            "align_self": null,
            "border": null,
            "bottom": null,
            "display": null,
            "flex": null,
            "flex_flow": null,
            "grid_area": null,
            "grid_auto_columns": null,
            "grid_auto_flow": null,
            "grid_auto_rows": null,
            "grid_column": null,
            "grid_gap": null,
            "grid_row": null,
            "grid_template_areas": null,
            "grid_template_columns": null,
            "grid_template_rows": null,
            "height": null,
            "justify_content": null,
            "justify_items": null,
            "left": null,
            "margin": null,
            "max_height": null,
            "max_width": null,
            "min_height": null,
            "min_width": null,
            "object_fit": null,
            "object_position": null,
            "order": null,
            "overflow": null,
            "overflow_x": null,
            "overflow_y": null,
            "padding": null,
            "right": null,
            "top": null,
            "visibility": null,
            "width": null
          }
        },
        "00cb6626b7514f94ad23e60ed04d3019": {
          "model_module": "@jupyter-widgets/controls",
          "model_name": "DescriptionStyleModel",
          "model_module_version": "1.5.0",
          "state": {
            "_model_module": "@jupyter-widgets/controls",
            "_model_module_version": "1.5.0",
            "_model_name": "DescriptionStyleModel",
            "_view_count": null,
            "_view_module": "@jupyter-widgets/base",
            "_view_module_version": "1.2.0",
            "_view_name": "StyleView",
            "description_width": ""
          }
        },
        "831195eee083459a876904c0c4b3b4ad": {
          "model_module": "@jupyter-widgets/base",
          "model_name": "LayoutModel",
          "model_module_version": "1.2.0",
          "state": {
            "_model_module": "@jupyter-widgets/base",
            "_model_module_version": "1.2.0",
            "_model_name": "LayoutModel",
            "_view_count": null,
            "_view_module": "@jupyter-widgets/base",
            "_view_module_version": "1.2.0",
            "_view_name": "LayoutView",
            "align_content": null,
            "align_items": null,
            "align_self": null,
            "border": null,
            "bottom": null,
            "display": null,
            "flex": null,
            "flex_flow": null,
            "grid_area": null,
            "grid_auto_columns": null,
            "grid_auto_flow": null,
            "grid_auto_rows": null,
            "grid_column": null,
            "grid_gap": null,
            "grid_row": null,
            "grid_template_areas": null,
            "grid_template_columns": null,
            "grid_template_rows": null,
            "height": null,
            "justify_content": null,
            "justify_items": null,
            "left": null,
            "margin": null,
            "max_height": null,
            "max_width": null,
            "min_height": null,
            "min_width": null,
            "object_fit": null,
            "object_position": null,
            "order": null,
            "overflow": null,
            "overflow_x": null,
            "overflow_y": null,
            "padding": null,
            "right": null,
            "top": null,
            "visibility": null,
            "width": null
          }
        },
        "3488b06c782b4a8d96a6edc70d6636a9": {
          "model_module": "@jupyter-widgets/controls",
          "model_name": "ProgressStyleModel",
          "model_module_version": "1.5.0",
          "state": {
            "_model_module": "@jupyter-widgets/controls",
            "_model_module_version": "1.5.0",
            "_model_name": "ProgressStyleModel",
            "_view_count": null,
            "_view_module": "@jupyter-widgets/base",
            "_view_module_version": "1.2.0",
            "_view_name": "StyleView",
            "bar_color": null,
            "description_width": ""
          }
        },
        "f50b6dc2062c46b0ba27a9f2ab1493ac": {
          "model_module": "@jupyter-widgets/base",
          "model_name": "LayoutModel",
          "model_module_version": "1.2.0",
          "state": {
            "_model_module": "@jupyter-widgets/base",
            "_model_module_version": "1.2.0",
            "_model_name": "LayoutModel",
            "_view_count": null,
            "_view_module": "@jupyter-widgets/base",
            "_view_module_version": "1.2.0",
            "_view_name": "LayoutView",
            "align_content": null,
            "align_items": null,
            "align_self": null,
            "border": null,
            "bottom": null,
            "display": null,
            "flex": null,
            "flex_flow": null,
            "grid_area": null,
            "grid_auto_columns": null,
            "grid_auto_flow": null,
            "grid_auto_rows": null,
            "grid_column": null,
            "grid_gap": null,
            "grid_row": null,
            "grid_template_areas": null,
            "grid_template_columns": null,
            "grid_template_rows": null,
            "height": null,
            "justify_content": null,
            "justify_items": null,
            "left": null,
            "margin": null,
            "max_height": null,
            "max_width": null,
            "min_height": null,
            "min_width": null,
            "object_fit": null,
            "object_position": null,
            "order": null,
            "overflow": null,
            "overflow_x": null,
            "overflow_y": null,
            "padding": null,
            "right": null,
            "top": null,
            "visibility": null,
            "width": null
          }
        },
        "0e0dd23392174f489eb089e95a5bdc30": {
          "model_module": "@jupyter-widgets/controls",
          "model_name": "DescriptionStyleModel",
          "model_module_version": "1.5.0",
          "state": {
            "_model_module": "@jupyter-widgets/controls",
            "_model_module_version": "1.5.0",
            "_model_name": "DescriptionStyleModel",
            "_view_count": null,
            "_view_module": "@jupyter-widgets/base",
            "_view_module_version": "1.2.0",
            "_view_name": "StyleView",
            "description_width": ""
          }
        }
      }
    }
  },
  "cells": [
    {
      "cell_type": "markdown",
      "source": [
        "# BART"
      ],
      "metadata": {
        "id": "UuSq7GwDCoSi"
      }
    },
    {
      "cell_type": "markdown",
      "source": [
        "![image.png](data:image/png;base64,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)"
      ],
      "metadata": {
        "id": "Dc-rjcEBjk1o"
      }
    },
    {
      "cell_type": "code",
      "source": [
        "!pip install transformers -q\n",
        "!pip install torchinfo -q"
      ],
      "metadata": {
        "id": "N4VD1kTVBIqW"
      },
      "execution_count": null,
      "outputs": []
    },
    {
      "cell_type": "code",
      "source": [
        "from transformers import AutoTokenizer, BartModel,BartConfig\n",
        "\n",
        "# Initializing a BART facebook/bart-large style configuration weights\n",
        "model = BartModel.from_pretrained(\"facebook/bart-base\")\n",
        "\n",
        "tokenizer = AutoTokenizer.from_pretrained(\"facebook/bart-large-cnn\")\n"
      ],
      "metadata": {
        "id": "sXmMHlJRGJJW"
      },
      "execution_count": null,
      "outputs": []
    },
    {
      "cell_type": "code",
      "source": [
        "TEXT = (\n",
        "    \"PG&E stated it scheduled the blackouts in response to forecasts for high winds \"\n",
        "    \"amid dry conditions. The aim is to reduce the risk of wildfires. Nearly 800 thousand customers were \"\n",
        "    \"scheduled to be affected by the shutoffs which were expected to last through at least midday tomorrow.\"\n",
        ")\n",
        "inputs = tokenizer([TEXT], max_length=1024, return_tensors=\"pt\")\n",
        "\n"
      ],
      "metadata": {
        "colab": {
          "base_uri": "https://localhost:8080/"
        },
        "id": "jGUGunigMk63",
        "outputId": "3d6eb1ab-1899-4c10-a0cf-5e1444484541"
      },
      "execution_count": null,
      "outputs": [
        {
          "output_type": "stream",
          "name": "stderr",
          "text": [
            "Truncation was not explicitly activated but `max_length` is provided a specific value, please use `truncation=True` to explicitly truncate examples to max length. Defaulting to 'longest_first' truncation strategy. If you encode pairs of sequences (GLUE-style) with the tokenizer you can select this strategy more precisely by providing a specific strategy to `truncation`.\n"
          ]
        }
      ]
    },
    {
      "cell_type": "code",
      "source": [
        "from torchinfo import summary\n",
        "from transformers import AutoModelForSequenceClassification, AutoTokenizer\n",
        "summary(model, input_size=(1, 512), dtypes=['torch.IntTensor'])"
      ],
      "metadata": {
        "colab": {
          "base_uri": "https://localhost:8080/"
        },
        "id": "uLKYtP3UI4Ws",
        "outputId": "a2260f22-bc9b-4f5a-9e46-7879c7283f58"
      },
      "execution_count": null,
      "outputs": [
        {
          "output_type": "execute_result",
          "data": {
            "text/plain": [
              "====================================================================================================\n",
              "Layer (type:depth-idx)                             Output Shape              Param #\n",
              "====================================================================================================\n",
              "BartModel                                          [1, 512, 768]             --\n",
              "├─BartEncoder: 1-1                                 [1, 512, 768]             --\n",
              "│    └─Embedding: 2-1                              [1, 512, 768]             38,603,520\n",
              "│    └─BartLearnedPositionalEmbedding: 2-2         [1, 512, 768]             787,968\n",
              "│    └─LayerNorm: 2-3                              [1, 512, 768]             1,536\n",
              "│    └─ModuleList: 2-4                             --                        --\n",
              "│    │    └─BartEncoderLayer: 3-1                  [1, 512, 768]             7,087,872\n",
              "│    │    └─BartEncoderLayer: 3-2                  [1, 512, 768]             7,087,872\n",
              "│    │    └─BartEncoderLayer: 3-3                  [1, 512, 768]             7,087,872\n",
              "│    │    └─BartEncoderLayer: 3-4                  [1, 512, 768]             7,087,872\n",
              "│    │    └─BartEncoderLayer: 3-5                  [1, 512, 768]             7,087,872\n",
              "│    │    └─BartEncoderLayer: 3-6                  [1, 512, 768]             7,087,872\n",
              "├─BartDecoder: 1-2                                 [1, 12, 512, 64]          --\n",
              "│    └─Embedding: 2-5                              [1, 512, 768]             38,603,520\n",
              "│    └─BartLearnedPositionalEmbedding: 2-6         [1, 512, 768]             787,968\n",
              "│    └─LayerNorm: 2-7                              [1, 512, 768]             1,536\n",
              "│    └─ModuleList: 2-8                             --                        --\n",
              "│    │    └─BartDecoderLayer: 3-7                  [1, 512, 768]             9,451,776\n",
              "│    │    └─BartDecoderLayer: 3-8                  [1, 512, 768]             9,451,776\n",
              "│    │    └─BartDecoderLayer: 3-9                  [1, 512, 768]             9,451,776\n",
              "│    │    └─BartDecoderLayer: 3-10                 [1, 512, 768]             9,451,776\n",
              "│    │    └─BartDecoderLayer: 3-11                 [1, 512, 768]             9,451,776\n",
              "│    │    └─BartDecoderLayer: 3-12                 [1, 512, 768]             9,451,776\n",
              "====================================================================================================\n",
              "Total params: 178,023,936\n",
              "Trainable params: 178,023,936\n",
              "Non-trainable params: 0\n",
              "Total mult-adds (M): 178.02\n",
              "====================================================================================================\n",
              "Input size (MB): 0.00\n",
              "Forward/backward pass size (MB): 528.48\n",
              "Params size (MB): 712.10\n",
              "Estimated Total Size (MB): 1240.58\n",
              "===================================================================================================="
            ]
          },
          "metadata": {},
          "execution_count": 10
        }
      ]
    },
    {
      "cell_type": "code",
      "source": [
        "from transformers import AutoTokenizer, BertModel\n",
        "model = BertModel.from_pretrained(\"bert-base-uncased\")\n",
        "from transformers import AutoModelForSequenceClassification, AutoTokenizer\n",
        "summary(model, input_size=(1, 512), dtypes=['torch.IntTensor'])"
      ],
      "metadata": {
        "colab": {
          "base_uri": "https://localhost:8080/"
        },
        "id": "cbqNGl09MoL1",
        "outputId": "490168d4-d598-4151-ae37-abc22b63d70e"
      },
      "execution_count": null,
      "outputs": [
        {
          "output_type": "stream",
          "name": "stderr",
          "text": [
            "Some weights of the model checkpoint at bert-base-uncased were not used when initializing BertModel: ['cls.predictions.transform.LayerNorm.weight', 'cls.seq_relationship.bias', 'cls.predictions.transform.dense.weight', 'cls.predictions.decoder.weight', 'cls.predictions.transform.dense.bias', 'cls.predictions.bias', 'cls.predictions.transform.LayerNorm.bias', 'cls.seq_relationship.weight']\n",
            "- This IS expected if you are initializing BertModel from the checkpoint of a model trained on another task or with another architecture (e.g. initializing a BertForSequenceClassification model from a BertForPreTraining model).\n",
            "- This IS NOT expected if you are initializing BertModel from the checkpoint of a model that you expect to be exactly identical (initializing a BertForSequenceClassification model from a BertForSequenceClassification model).\n"
          ]
        },
        {
          "output_type": "execute_result",
          "data": {
            "text/plain": [
              "====================================================================================================\n",
              "Layer (type:depth-idx)                             Output Shape              Param #\n",
              "====================================================================================================\n",
              "BertModel                                          [1, 768]                  --\n",
              "├─BertEmbeddings: 1-1                              [1, 512, 768]             --\n",
              "│    └─Embedding: 2-1                              [1, 512, 768]             23,440,896\n",
              "│    └─Embedding: 2-2                              [1, 512, 768]             1,536\n",
              "│    └─Embedding: 2-3                              [1, 512, 768]             393,216\n",
              "│    └─LayerNorm: 2-4                              [1, 512, 768]             1,536\n",
              "│    └─Dropout: 2-5                                [1, 512, 768]             --\n",
              "├─BertEncoder: 1-2                                 [1, 512, 768]             --\n",
              "│    └─ModuleList: 2-6                             --                        --\n",
              "│    │    └─BertLayer: 3-1                         [1, 512, 768]             7,087,872\n",
              "│    │    └─BertLayer: 3-2                         [1, 512, 768]             7,087,872\n",
              "│    │    └─BertLayer: 3-3                         [1, 512, 768]             7,087,872\n",
              "│    │    └─BertLayer: 3-4                         [1, 512, 768]             7,087,872\n",
              "│    │    └─BertLayer: 3-5                         [1, 512, 768]             7,087,872\n",
              "│    │    └─BertLayer: 3-6                         [1, 512, 768]             7,087,872\n",
              "│    │    └─BertLayer: 3-7                         [1, 512, 768]             7,087,872\n",
              "│    │    └─BertLayer: 3-8                         [1, 512, 768]             7,087,872\n",
              "│    │    └─BertLayer: 3-9                         [1, 512, 768]             7,087,872\n",
              "│    │    └─BertLayer: 3-10                        [1, 512, 768]             7,087,872\n",
              "│    │    └─BertLayer: 3-11                        [1, 512, 768]             7,087,872\n",
              "│    │    └─BertLayer: 3-12                        [1, 512, 768]             7,087,872\n",
              "├─BertPooler: 1-3                                  [1, 768]                  --\n",
              "│    └─Linear: 2-7                                 [1, 768]                  590,592\n",
              "│    └─Tanh: 2-8                                   [1, 768]                  --\n",
              "====================================================================================================\n",
              "Total params: 109,482,240\n",
              "Trainable params: 109,482,240\n",
              "Non-trainable params: 0\n",
              "Total mult-adds (M): 109.48\n",
              "====================================================================================================\n",
              "Input size (MB): 0.00\n",
              "Forward/backward pass size (MB): 427.83\n",
              "Params size (MB): 437.93\n",
              "Estimated Total Size (MB): 865.76\n",
              "===================================================================================================="
            ]
          },
          "metadata": {},
          "execution_count": 24
        }
      ]
    },
    {
      "cell_type": "code",
      "source": [
        "print(tokenizer)"
      ],
      "metadata": {
        "colab": {
          "base_uri": "https://localhost:8080/"
        },
        "id": "4It1lIguLMZr",
        "outputId": "07b74d11-34b4-42c9-8ba8-24940d90976c"
      },
      "execution_count": null,
      "outputs": [
        {
          "output_type": "stream",
          "name": "stdout",
          "text": [
            "BartTokenizerFast(name_or_path='facebook/bart-large-cnn', vocab_size=50265, model_max_length=1024, is_fast=True, padding_side='right', truncation_side='right', special_tokens={'bos_token': '<s>', 'eos_token': '</s>', 'unk_token': '<unk>', 'sep_token': '</s>', 'pad_token': '<pad>', 'cls_token': '<s>', 'mask_token': AddedToken(\"<mask>\", rstrip=False, lstrip=True, single_word=False, normalized=False)})\n"
          ]
        }
      ]
    },
    {
      "cell_type": "code",
      "source": [
        "!pip install torchinfo -q"
      ],
      "metadata": {
        "id": "3jJs0sosJTMD"
      },
      "execution_count": null,
      "outputs": []
    },
    {
      "cell_type": "code",
      "source": [
        "print(inputs.keys())"
      ],
      "metadata": {
        "colab": {
          "base_uri": "https://localhost:8080/"
        },
        "id": "0yRA8GZOLTI3",
        "outputId": "4301a29d-2528-47f7-f401-7a0740044913"
      },
      "execution_count": null,
      "outputs": [
        {
          "output_type": "stream",
          "name": "stdout",
          "text": [
            "dict_keys(['input_ids', 'attention_mask'])\n"
          ]
        }
      ]
    },
    {
      "cell_type": "code",
      "source": [
        "print(inputs['input_ids'].shape)\n",
        "print(inputs['attention_mask'].shape)"
      ],
      "metadata": {
        "colab": {
          "base_uri": "https://localhost:8080/"
        },
        "id": "PUlByqwCLv0F",
        "outputId": "8e0785ce-feb0-4fe4-f11a-3a7d7c2b20e3"
      },
      "execution_count": null,
      "outputs": [
        {
          "output_type": "stream",
          "name": "stdout",
          "text": [
            "torch.Size([1, 56])\n",
            "torch.Size([1, 56])\n"
          ]
        }
      ]
    },
    {
      "cell_type": "code",
      "source": [
        "outputs = model(**inputs,return_dict=True)"
      ],
      "metadata": {
        "id": "vJn-u4eaMo-R"
      },
      "execution_count": null,
      "outputs": []
    },
    {
      "cell_type": "code",
      "source": [
        "print(outputs.keys())"
      ],
      "metadata": {
        "colab": {
          "base_uri": "https://localhost:8080/"
        },
        "id": "NC727ELjMtGe",
        "outputId": "80ddc974-82fc-4c3c-c207-b16872369d15"
      },
      "execution_count": null,
      "outputs": [
        {
          "output_type": "stream",
          "name": "stdout",
          "text": [
            "odict_keys(['last_hidden_state', 'past_key_values', 'encoder_last_hidden_state'])\n"
          ]
        }
      ]
    },
    {
      "cell_type": "code",
      "source": [
        "print(\"last hidden state\",outputs.last_hidden_state.shape)\n"
      ],
      "metadata": {
        "colab": {
          "base_uri": "https://localhost:8080/"
        },
        "id": "hGvQ4bTQM9Zw",
        "outputId": "67153349-c8a9-439c-a7cd-7c03cea4cf89"
      },
      "execution_count": null,
      "outputs": [
        {
          "output_type": "stream",
          "name": "stdout",
          "text": [
            "last hidden state torch.Size([1, 56, 768])\n"
          ]
        }
      ]
    },
    {
      "cell_type": "code",
      "source": [
        "print(\"past key\",len(outputs.past_key_values))\n",
        "print(outputs.past_key_values[0][0])"
      ],
      "metadata": {
        "colab": {
          "base_uri": "https://localhost:8080/"
        },
        "id": "y6_2cIgmNQc7",
        "outputId": "7d75a9b9-95dc-4bdb-c98e-d0c30420fe0e"
      },
      "execution_count": null,
      "outputs": [
        {
          "output_type": "stream",
          "name": "stdout",
          "text": [
            "past key 6\n",
            "tensor([[[[-0.1147, -0.5220, -0.6727,  ...,  0.3431,  0.0759, -0.0243],\n",
            "          [ 0.0545,  0.3640, -0.7171,  ...,  0.0815,  0.0054,  0.3421],\n",
            "          [ 0.8442, -0.6637, -0.3072,  ..., -0.5735, -0.6820,  0.8552],\n",
            "          ...,\n",
            "          [-1.2454,  0.7658,  1.5817,  ..., -0.3995, -0.1713, -0.0848],\n",
            "          [-2.0342,  0.7014,  0.6181,  ...,  0.0440, -0.1218,  1.0048],\n",
            "          [-1.6544,  0.4801, -0.3073,  ..., -0.2715, -0.1649, -0.2765]],\n",
            "\n",
            "         [[ 0.4247, -0.3899, -0.3139,  ...,  0.5761,  0.1789,  1.3113],\n",
            "          [ 0.2842, -0.3870, -0.3964,  ...,  0.5646,  0.0862,  1.3079],\n",
            "          [-0.8362,  0.2443,  0.4941,  ...,  0.7270,  0.3747, -2.9863],\n",
            "          ...,\n",
            "          [ 0.3557, -1.5609, -2.4382,  ...,  0.9765,  1.8773, -2.5829],\n",
            "          [-0.4403, -2.1208, -0.7422,  ...,  1.4561,  0.9696, -2.9593],\n",
            "          [ 0.8482, -2.7829, -0.3561,  ...,  1.0278, -1.6397, -1.5226]],\n",
            "\n",
            "         [[ 0.2488, -0.7200,  0.5254,  ..., -0.1434, -0.5021,  0.6895],\n",
            "          [ 0.3267, -0.6191,  0.6156,  ..., -0.0449, -0.4194,  0.7115],\n",
            "          [-0.3683,  0.4730,  0.4016,  ..., -1.9499,  0.6165,  0.4426],\n",
            "          ...,\n",
            "          [ 1.4296,  0.1372, -2.0901,  ..., -2.0274, -0.1352, -0.2572],\n",
            "          [ 1.3428, -1.0904, -2.9412,  ..., -0.9871, -2.3028, -1.3896],\n",
            "          [ 0.8649, -2.0814,  1.1080,  ...,  0.7100, -0.8694, -1.3594]],\n",
            "\n",
            "         ...,\n",
            "\n",
            "         [[-0.2274, -0.0855, -0.3774,  ..., -0.8612, -1.1205, -1.8190],\n",
            "          [ 0.0473, -0.1292, -0.3163,  ..., -1.0761, -0.8974, -1.8521],\n",
            "          [-0.6442,  1.1307, -0.3430,  ...,  1.1476,  0.2829, -1.0524],\n",
            "          ...,\n",
            "          [-2.3274,  0.7109,  1.7549,  ..., -1.3453,  0.6042,  3.4231],\n",
            "          [-2.9477,  2.8334,  0.2284,  ..., -0.1971, -0.2309,  3.2973],\n",
            "          [-3.5577,  1.5521,  0.4292,  ..., -0.7284,  1.1853,  2.6862]],\n",
            "\n",
            "         [[-1.8059,  0.7841, -2.6778,  ...,  1.8138, -0.6681,  0.2544],\n",
            "          [-1.5170, -0.3241, -1.7216,  ...,  0.9097,  0.4760,  0.4110],\n",
            "          [-0.1923, -1.0990, -0.4658,  ..., -3.9919,  0.9690, -2.0518],\n",
            "          ...,\n",
            "          [ 1.8215, -0.0708,  0.7847,  ..., -3.3925,  1.2834,  0.9661],\n",
            "          [ 1.4300,  1.0478,  0.3346,  ..., -4.3375,  2.6524, -0.5409],\n",
            "          [ 1.9203, -0.4627,  0.3491,  ..., -2.3455,  1.6944, -0.9026]],\n",
            "\n",
            "         [[-1.8905, -1.3374, -0.2002,  ..., -0.3515,  3.3732,  0.9060],\n",
            "          [-1.5089, -1.2653, -0.3086,  ..., -0.5588,  3.2395,  0.7418],\n",
            "          [ 3.8071,  2.3115,  2.7365,  ..., -1.3600,  1.7248, -2.9377],\n",
            "          ...,\n",
            "          [-0.3927,  3.4526,  3.6151,  ..., -1.9583, -2.3328, -4.1539],\n",
            "          [-0.8841,  2.3492,  3.0914,  ..., -2.6662, -0.8144, -2.8158],\n",
            "          [ 2.4551,  2.6718,  0.1616,  ...,  1.4295, -0.7736, -1.4752]]]],\n",
            "       grad_fn=<CloneBackward0>)\n"
          ]
        }
      ]
    },
    {
      "cell_type": "code",
      "source": [
        "print(\"last encoder hidden state\",outputs.encoder_last_hidden_state.shape)"
      ],
      "metadata": {
        "colab": {
          "base_uri": "https://localhost:8080/"
        },
        "id": "s4VWdrlsNU_l",
        "outputId": "9514e96a-5a60-4ab2-a7b1-da6154b164a0"
      },
      "execution_count": null,
      "outputs": [
        {
          "output_type": "stream",
          "name": "stdout",
          "text": [
            "last encoder hidden state torch.Size([1, 56, 768])\n"
          ]
        }
      ]
    },
    {
      "cell_type": "markdown",
      "source": [
        "## Text Generation"
      ],
      "metadata": {
        "id": "y2muqSupCjAy"
      }
    },
    {
      "cell_type": "markdown",
      "source": [
        "### Summarization"
      ],
      "metadata": {
        "id": "Okh15PQ8DhpV"
      }
    },
    {
      "cell_type": "code",
      "source": [
        "from transformers import AutoTokenizer, BartForConditionalGeneration\n",
        "\n",
        "model = BartForConditionalGeneration.from_pretrained(\"facebook/bart-large-cnn\")\n",
        "tokenizer = AutoTokenizer.from_pretrained(\"facebook/bart-large-cnn\")\n",
        "\n",
        "ARTICLE_TO_SUMMARIZE = (\n",
        "    \"PG&E stated it scheduled the blackouts in response to forecasts for high winds \"\n",
        "    \"amid dry conditions. The aim is to reduce the risk of wildfires. Nearly 800 thousand customers were \"\n",
        "    \"scheduled to be affected by the shutoffs which were expected to last through at least midday tomorrow.\"\n",
        ")\n",
        "inputs = tokenizer([ARTICLE_TO_SUMMARIZE], max_length=1024, return_tensors=\"pt\")\n",
        "\n"
      ],
      "metadata": {
        "colab": {
          "base_uri": "https://localhost:8080/",
          "height": 380
        },
        "id": "jUhBMxl2DmQt",
        "outputId": "757b7408-6de4-422d-fb8c-5a7455409b1c"
      },
      "execution_count": null,
      "outputs": [
        {
          "output_type": "error",
          "ename": "KeyboardInterrupt",
          "evalue": "ignored",
          "traceback": [
            "\u001b[0;31m---------------------------------------------------------------------------\u001b[0m",
            "\u001b[0;31mKeyboardInterrupt\u001b[0m                         Traceback (most recent call last)",
            "\u001b[0;32m<ipython-input-21-89a8699fd944>\u001b[0m in \u001b[0;36m<module>\u001b[0;34m\u001b[0m\n\u001b[1;32m      1\u001b[0m \u001b[0;32mfrom\u001b[0m \u001b[0mtransformers\u001b[0m \u001b[0;32mimport\u001b[0m \u001b[0mAutoTokenizer\u001b[0m\u001b[0;34m,\u001b[0m \u001b[0mBartModel\u001b[0m\u001b[0;34m\u001b[0m\u001b[0;34m\u001b[0m\u001b[0m\n\u001b[1;32m      2\u001b[0m \u001b[0;34m\u001b[0m\u001b[0m\n\u001b[0;32m----> 3\u001b[0;31m \u001b[0mmodel\u001b[0m \u001b[0;34m=\u001b[0m \u001b[0mBartForConditionalGeneration\u001b[0m\u001b[0;34m.\u001b[0m\u001b[0mfrom_pretrained\u001b[0m\u001b[0;34m(\u001b[0m\u001b[0;34m\"facebook/bart-large-cnn\"\u001b[0m\u001b[0;34m)\u001b[0m\u001b[0;34m\u001b[0m\u001b[0;34m\u001b[0m\u001b[0m\n\u001b[0m\u001b[1;32m      4\u001b[0m \u001b[0mtokenizer\u001b[0m \u001b[0;34m=\u001b[0m \u001b[0mAutoTokenizer\u001b[0m\u001b[0;34m.\u001b[0m\u001b[0mfrom_pretrained\u001b[0m\u001b[0;34m(\u001b[0m\u001b[0;34m\"facebook/bart-large-cnn\"\u001b[0m\u001b[0;34m)\u001b[0m\u001b[0;34m\u001b[0m\u001b[0;34m\u001b[0m\u001b[0m\n\u001b[1;32m      5\u001b[0m \u001b[0;34m\u001b[0m\u001b[0m\n",
            "\u001b[0;32m/usr/local/lib/python3.8/dist-packages/transformers/modeling_utils.py\u001b[0m in \u001b[0;36mfrom_pretrained\u001b[0;34m(cls, pretrained_model_name_or_path, *model_args, **kwargs)\u001b[0m\n\u001b[1;32m   2299\u001b[0m             \u001b[0;32mif\u001b[0m \u001b[0;32mnot\u001b[0m \u001b[0mis_sharded\u001b[0m \u001b[0;32mand\u001b[0m \u001b[0mstate_dict\u001b[0m \u001b[0;32mis\u001b[0m \u001b[0;32mNone\u001b[0m\u001b[0;34m:\u001b[0m\u001b[0;34m\u001b[0m\u001b[0;34m\u001b[0m\u001b[0m\n\u001b[1;32m   2300\u001b[0m                 \u001b[0;31m# Time to load the checkpoint\u001b[0m\u001b[0;34m\u001b[0m\u001b[0;34m\u001b[0m\u001b[0;34m\u001b[0m\u001b[0m\n\u001b[0;32m-> 2301\u001b[0;31m                 \u001b[0mstate_dict\u001b[0m \u001b[0;34m=\u001b[0m \u001b[0mload_state_dict\u001b[0m\u001b[0;34m(\u001b[0m\u001b[0mresolved_archive_file\u001b[0m\u001b[0;34m)\u001b[0m\u001b[0;34m\u001b[0m\u001b[0;34m\u001b[0m\u001b[0m\n\u001b[0m\u001b[1;32m   2302\u001b[0m \u001b[0;34m\u001b[0m\u001b[0m\n\u001b[1;32m   2303\u001b[0m             \u001b[0;31m# set dtype to instantiate the model under:\u001b[0m\u001b[0;34m\u001b[0m\u001b[0;34m\u001b[0m\u001b[0;34m\u001b[0m\u001b[0m\n",
            "\u001b[0;32m/usr/local/lib/python3.8/dist-packages/transformers/modeling_utils.py\u001b[0m in \u001b[0;36mload_state_dict\u001b[0;34m(checkpoint_file)\u001b[0m\n\u001b[1;32m    413\u001b[0m         \u001b[0;32mreturn\u001b[0m \u001b[0msafe_load_file\u001b[0m\u001b[0;34m(\u001b[0m\u001b[0mcheckpoint_file\u001b[0m\u001b[0;34m)\u001b[0m\u001b[0;34m\u001b[0m\u001b[0;34m\u001b[0m\u001b[0m\n\u001b[1;32m    414\u001b[0m     \u001b[0;32mtry\u001b[0m\u001b[0;34m:\u001b[0m\u001b[0;34m\u001b[0m\u001b[0;34m\u001b[0m\u001b[0m\n\u001b[0;32m--> 415\u001b[0;31m         \u001b[0;32mreturn\u001b[0m \u001b[0mtorch\u001b[0m\u001b[0;34m.\u001b[0m\u001b[0mload\u001b[0m\u001b[0;34m(\u001b[0m\u001b[0mcheckpoint_file\u001b[0m\u001b[0;34m,\u001b[0m \u001b[0mmap_location\u001b[0m\u001b[0;34m=\u001b[0m\u001b[0;34m\"cpu\"\u001b[0m\u001b[0;34m)\u001b[0m\u001b[0;34m\u001b[0m\u001b[0;34m\u001b[0m\u001b[0m\n\u001b[0m\u001b[1;32m    416\u001b[0m     \u001b[0;32mexcept\u001b[0m \u001b[0mException\u001b[0m \u001b[0;32mas\u001b[0m \u001b[0me\u001b[0m\u001b[0;34m:\u001b[0m\u001b[0;34m\u001b[0m\u001b[0;34m\u001b[0m\u001b[0m\n\u001b[1;32m    417\u001b[0m         \u001b[0;32mtry\u001b[0m\u001b[0;34m:\u001b[0m\u001b[0;34m\u001b[0m\u001b[0;34m\u001b[0m\u001b[0m\n",
            "\u001b[0;32m/usr/local/lib/python3.8/dist-packages/torch/serialization.py\u001b[0m in \u001b[0;36mload\u001b[0;34m(f, map_location, pickle_module, weights_only, **pickle_load_args)\u001b[0m\n\u001b[1;32m    793\u001b[0m             \u001b[0;32mexcept\u001b[0m \u001b[0mRuntimeError\u001b[0m \u001b[0;32mas\u001b[0m \u001b[0me\u001b[0m\u001b[0;34m:\u001b[0m\u001b[0;34m\u001b[0m\u001b[0;34m\u001b[0m\u001b[0m\n\u001b[1;32m    794\u001b[0m                 \u001b[0;32mraise\u001b[0m \u001b[0mpickle\u001b[0m\u001b[0;34m.\u001b[0m\u001b[0mUnpicklingError\u001b[0m\u001b[0;34m(\u001b[0m\u001b[0mUNSAFE_MESSAGE\u001b[0m \u001b[0;34m+\u001b[0m \u001b[0mstr\u001b[0m\u001b[0;34m(\u001b[0m\u001b[0me\u001b[0m\u001b[0;34m)\u001b[0m\u001b[0;34m)\u001b[0m \u001b[0;32mfrom\u001b[0m \u001b[0;32mNone\u001b[0m\u001b[0;34m\u001b[0m\u001b[0;34m\u001b[0m\u001b[0m\n\u001b[0;32m--> 795\u001b[0;31m         \u001b[0;32mreturn\u001b[0m \u001b[0m_legacy_load\u001b[0m\u001b[0;34m(\u001b[0m\u001b[0mopened_file\u001b[0m\u001b[0;34m,\u001b[0m \u001b[0mmap_location\u001b[0m\u001b[0;34m,\u001b[0m \u001b[0mpickle_module\u001b[0m\u001b[0;34m,\u001b[0m \u001b[0;34m**\u001b[0m\u001b[0mpickle_load_args\u001b[0m\u001b[0;34m)\u001b[0m\u001b[0;34m\u001b[0m\u001b[0;34m\u001b[0m\u001b[0m\n\u001b[0m\u001b[1;32m    796\u001b[0m \u001b[0;34m\u001b[0m\u001b[0m\n\u001b[1;32m    797\u001b[0m \u001b[0;34m\u001b[0m\u001b[0m\n",
            "\u001b[0;32m/usr/local/lib/python3.8/dist-packages/torch/serialization.py\u001b[0m in \u001b[0;36m_legacy_load\u001b[0;34m(f, map_location, pickle_module, **pickle_load_args)\u001b[0m\n\u001b[1;32m   1018\u001b[0m         \u001b[0;32massert\u001b[0m \u001b[0mkey\u001b[0m \u001b[0;32min\u001b[0m \u001b[0mdeserialized_objects\u001b[0m\u001b[0;34m\u001b[0m\u001b[0;34m\u001b[0m\u001b[0m\n\u001b[1;32m   1019\u001b[0m         \u001b[0mtyped_storage\u001b[0m \u001b[0;34m=\u001b[0m \u001b[0mdeserialized_objects\u001b[0m\u001b[0;34m[\u001b[0m\u001b[0mkey\u001b[0m\u001b[0;34m]\u001b[0m\u001b[0;34m\u001b[0m\u001b[0;34m\u001b[0m\u001b[0m\n\u001b[0;32m-> 1020\u001b[0;31m         typed_storage._storage._set_from_file(\n\u001b[0m\u001b[1;32m   1021\u001b[0m             \u001b[0mf\u001b[0m\u001b[0;34m,\u001b[0m \u001b[0moffset\u001b[0m\u001b[0;34m,\u001b[0m \u001b[0mf_should_read_directly\u001b[0m\u001b[0;34m,\u001b[0m\u001b[0;34m\u001b[0m\u001b[0;34m\u001b[0m\u001b[0m\n\u001b[1;32m   1022\u001b[0m             torch._utils._element_size(typed_storage.dtype))\n",
            "\u001b[0;31mKeyboardInterrupt\u001b[0m: "
          ]
        }
      ]
    },
    {
      "cell_type": "code",
      "source": [
        "# Generate Summary\n",
        "summary_ids = model.generate(inputs[\"input_ids\"], num_beams=2, min_length=0, max_length=20)\n",
        "tokenizer.batch_decode(summary_ids, skip_special_tokens=True, clean_up_tokenization_spaces=False)[0]"
      ],
      "metadata": {
        "colab": {
          "base_uri": "https://localhost:8080/",
          "height": 36
        },
        "id": "7tPWtuOoDmK9",
        "outputId": "dad2f47d-295c-4539-cb70-c524f25d3e71"
      },
      "execution_count": null,
      "outputs": [
        {
          "output_type": "execute_result",
          "data": {
            "text/plain": [
              "'PG&E scheduled the blackouts in response to forecasts for high winds amid dry conditions'"
            ],
            "application/vnd.google.colaboratory.intrinsic+json": {
              "type": "string"
            }
          },
          "metadata": {},
          "execution_count": 6
        }
      ]
    },
    {
      "cell_type": "markdown",
      "source": [
        "### Next Word Prediction"
      ],
      "metadata": {
        "id": "CGYu8Ch1DUyn"
      }
    },
    {
      "cell_type": "markdown",
      "source": [
        "### Masked Word Replacement"
      ],
      "metadata": {
        "id": "2itbAFdrDYw7"
      }
    },
    {
      "cell_type": "code",
      "execution_count": null,
      "metadata": {
        "colab": {
          "base_uri": "https://localhost:8080/"
        },
        "id": "MyxJLns26yvF",
        "outputId": "493d3aef-404d-4537-c8d7-4929ff1b1062"
      },
      "outputs": [
        {
          "output_type": "execute_result",
          "data": {
            "text/plain": [
              "['not', 'good', 'healthy', 'great', 'very']"
            ]
          },
          "metadata": {},
          "execution_count": 9
        }
      ],
      "source": [
        "from transformers import AutoTokenizer, BartForConditionalGeneration\n",
        "\n",
        "tokenizer = AutoTokenizer.from_pretrained(\"facebook/bart-base\")\n",
        "model = BartForConditionalGeneration.from_pretrained(\"facebook/bart-base\")\n",
        "\n",
        "TXT = \"My friends are <mask> but they eat too many carbs.\"\n",
        "input_ids = tokenizer([TXT], return_tensors=\"pt\")[\"input_ids\"]\n",
        "logits = model(input_ids).logits\n",
        "\n",
        "masked_index = (input_ids[0] == tokenizer.mask_token_id).nonzero().item()\n",
        "probs = logits[0, masked_index].softmax(dim=0)\n",
        "values, predictions = probs.topk(5)\n",
        "\n",
        "tokenizer.decode(predictions).split()"
      ]
    },
    {
      "cell_type": "markdown",
      "source": [
        "## Text Classification"
      ],
      "metadata": {
        "id": "tinveXBVCrzd"
      }
    },
    {
      "cell_type": "code",
      "source": [
        "import torch\n",
        "from transformers import AutoTokenizer, BartForSequenceClassification\n",
        "\n",
        "tokenizer = AutoTokenizer.from_pretrained(\"valhalla/bart-large-sst2\")\n",
        "model = BartForSequenceClassification.from_pretrained(\"valhalla/bart-large-sst2\")\n",
        "\n",
        "inputs = tokenizer(\"Hello, my dog is cute\", return_tensors=\"pt\")\n",
        "\n",
        "with torch.no_grad():\n",
        "    logits = model(**inputs).logits\n",
        "\n",
        "predicted_class_id = logits.argmax().item()\n",
        "model.config.id2label[predicted_class_id]\n"
      ],
      "metadata": {
        "colab": {
          "base_uri": "https://localhost:8080/",
          "height": 53
        },
        "id": "ezJeQe_3Cqzl",
        "outputId": "03e4b4bb-35a8-4a1d-fdca-2f0d961dcfd5"
      },
      "execution_count": null,
      "outputs": [
        {
          "output_type": "stream",
          "name": "stderr",
          "text": [
            "You passed along `num_labels=3` with an incompatible id to label map: {'0': 'NEGATIVE', '1': 'POSITIVE'}. The number of labels wil be overwritten to 2.\n"
          ]
        },
        {
          "output_type": "execute_result",
          "data": {
            "text/plain": [
              "'POSITIVE'"
            ],
            "application/vnd.google.colaboratory.intrinsic+json": {
              "type": "string"
            }
          },
          "metadata": {},
          "execution_count": 12
        }
      ]
    },
    {
      "cell_type": "markdown",
      "source": [
        "### Question Answering"
      ],
      "metadata": {
        "id": "gRA3q4bEErSG"
      }
    },
    {
      "cell_type": "code",
      "source": [
        "from transformers import AutoTokenizer, BartForQuestionAnswering\n",
        "import torch\n",
        "\n",
        "tokenizer = AutoTokenizer.from_pretrained(\"valhalla/bart-large-finetuned-squadv1\")\n",
        "model = BartForQuestionAnswering.from_pretrained(\"valhalla/bart-large-finetuned-squadv1\")\n",
        "\n",
        "question, text = \"Who was Jim Henson?\", \"Jim Henson was a nice puppet\"\n",
        "\n",
        "inputs = tokenizer(question, text, return_tensors=\"pt\")\n",
        "with torch.no_grad():\n",
        "    outputs = model(**inputs)\n",
        "\n",
        "answer_start_index = outputs.start_logits.argmax()\n",
        "answer_end_index = outputs.end_logits.argmax()\n",
        "\n",
        "predict_answer_tokens = inputs.input_ids[0, answer_start_index : answer_end_index + 1]\n",
        "tokenizer.decode(predict_answer_tokens, skip_special_tokens=True)\n",
        "\n",
        "# target is \"nice puppet\"\n",
        "target_start_index = torch.tensor([14])\n",
        "target_end_index = torch.tensor([15])\n",
        "\n",
        "outputs = model(**inputs, start_positions=target_start_index, end_positions=target_end_index)\n",
        "loss = outputs.loss\n",
        "round(loss.item(), 2)"
      ],
      "metadata": {
        "colab": {
          "base_uri": "https://localhost:8080/",
          "height": 296,
          "referenced_widgets": [
            "38ea58628b274b5a92d89a1f210fe82a",
            "0b1a60e80ecd49aebd1530aa0a54bd01",
            "df71238a03a64fc2b07c03a0b9b0590a",
            "2b99070c1ab04033952bb02552f2c9cd",
            "cc968ce980404158bd6772c25d3ad861",
            "4b392b755cb3438394c58eb8033fd90d",
            "148b8730310e47199c911dac643293d4",
            "87f63bd5a8ac489cad69b38c8938429d",
            "4124aa94a035458592f15c9c768cbef2",
            "81914f515afd4174a20b8bd9a59888f4",
            "bd00de78567d4e299acb4c8bf98ade80",
            "52a6705b5e91431d84fddecc1213d7d3",
            "7a907284b1ba4fb280043d05c176a097",
            "cca2fe504e374b1a961fb34b308a6f55",
            "2b0d7659c6bf455ba4e6d7d8f9caa27d",
            "bef6f89415b641acb378b3203e4f0288",
            "e663cb0b862a4545bfe2ac4b533b4802",
            "d609d4af852f42e4959b9b491afb3cf9",
            "e9404001969c4c8aab3f7f881e82c561",
            "d689dee4281f44a583e9288d45a4ad4e",
            "a4bf070dd1ed480f99f1ed828bbeaced",
            "aa6fe8018f1741699b5b4c5721c56e0e",
            "93fb8be36b904369bbc8ea3277206dbe",
            "293b52e6d2a9434d8da12fbe8f825978",
            "9d9973ae4b224931a1e2fe07ecbb48d7",
            "21e3eeeef41046c5a26947d401f8495f",
            "fe6cac73beaa439cb7932df8792fc55d",
            "58a7d30d963b47828a64aa2af353284e",
            "279c445a94074668929f04869e8b9966",
            "8dd6fd7004a6422383bad88b237d47a2",
            "ec4268d7e4644131ade5f658c173a029",
            "ecddebdd1cd045eeb07593a95b084bd8",
            "a70ea74660a34b43abd1bbe3680ef8e8",
            "6228ba911fb04bf881ddc75abfa04714",
            "cd1fb133f98f4894906b4f56e49d51e7",
            "4cb9687d6fdd460aae22271e07a98293",
            "7dfbd522de434b09ae3158d5a1e865ee",
            "6e335315dd2040aa8a87297111e2cc0f",
            "ea9a567fe48545b38d16484ef9d153bd",
            "8dfebc94278f4688bbd0c89cd7a68355",
            "b9e152dcac524381b22d8648195176ee",
            "90c65098059b473eac49f7395783f442",
            "5389f523f40e40a9b5135d715f63734a",
            "a1ba48366b8f46f5bc5e33b539314549",
            "c5e458d8c43d4860af4df161b4903b1a",
            "2a3afb38bed24c4ca62f758765429fca",
            "d692182ef5144965ade733cdb0174e1c",
            "d6138f5c6a5746bda6bfc513dff0a402",
            "a4307ec3894547c794856f531aad0ce0",
            "06008c5365ec497dbb197bd72ac1b42f",
            "cfbd8358011d44d28c59a0daf313f987",
            "accf9b508365438d900244da5a2a21f7",
            "faa6fdc940284bdeb4e94619f182b93b",
            "c5620011674f45c09019a03337aac7fb",
            "25abc4c3899e4d9f972d3b334d09d725",
            "bd6b7e27bd1e45ad9a2ac259be90b5b1",
            "e7b5ce40a3724c62bc933d0d0054c0a3",
            "ba831d703d04483da4e4480bf87e5fd6",
            "9c9fb8cc2e5a4e9f80248aef5d834bdc",
            "ef10fb5dfc38447daada051f78bab7dd",
            "07c24ec4ad6849de868f6d98b21d48c5",
            "00cb6626b7514f94ad23e60ed04d3019",
            "831195eee083459a876904c0c4b3b4ad",
            "3488b06c782b4a8d96a6edc70d6636a9",
            "f50b6dc2062c46b0ba27a9f2ab1493ac",
            "0e0dd23392174f489eb089e95a5bdc30"
          ]
        },
        "id": "3jCA0B9KEnRd",
        "outputId": "7f3a9218-8e03-413d-d13f-cd4275ef7497"
      },
      "execution_count": null,
      "outputs": [
        {
          "output_type": "display_data",
          "data": {
            "text/plain": [
              "Downloading (…)okenizer_config.json:   0%|          | 0.00/26.0 [00:00<?, ?B/s]"
            ],
            "application/vnd.jupyter.widget-view+json": {
              "version_major": 2,
              "version_minor": 0,
              "model_id": "38ea58628b274b5a92d89a1f210fe82a"
            }
          },
          "metadata": {}
        },
        {
          "output_type": "display_data",
          "data": {
            "text/plain": [
              "Downloading (…)lve/main/config.json:   0%|          | 0.00/1.43k [00:00<?, ?B/s]"
            ],
            "application/vnd.jupyter.widget-view+json": {
              "version_major": 2,
              "version_minor": 0,
              "model_id": "52a6705b5e91431d84fddecc1213d7d3"
            }
          },
          "metadata": {}
        },
        {
          "output_type": "stream",
          "name": "stderr",
          "text": [
            "You passed along `num_labels=3` with an incompatible id to label map: {'0': 'LABEL_0', '1': 'LABEL_1'}. The number of labels wil be overwritten to 2.\n"
          ]
        },
        {
          "output_type": "display_data",
          "data": {
            "text/plain": [
              "Downloading (…)olve/main/vocab.json:   0%|          | 0.00/899k [00:00<?, ?B/s]"
            ],
            "application/vnd.jupyter.widget-view+json": {
              "version_major": 2,
              "version_minor": 0,
              "model_id": "93fb8be36b904369bbc8ea3277206dbe"
            }
          },
          "metadata": {}
        },
        {
          "output_type": "display_data",
          "data": {
            "text/plain": [
              "Downloading (…)olve/main/merges.txt:   0%|          | 0.00/456k [00:00<?, ?B/s]"
            ],
            "application/vnd.jupyter.widget-view+json": {
              "version_major": 2,
              "version_minor": 0,
              "model_id": "6228ba911fb04bf881ddc75abfa04714"
            }
          },
          "metadata": {}
        },
        {
          "output_type": "display_data",
          "data": {
            "text/plain": [
              "Downloading (…)cial_tokens_map.json:   0%|          | 0.00/150 [00:00<?, ?B/s]"
            ],
            "application/vnd.jupyter.widget-view+json": {
              "version_major": 2,
              "version_minor": 0,
              "model_id": "c5e458d8c43d4860af4df161b4903b1a"
            }
          },
          "metadata": {}
        },
        {
          "output_type": "stream",
          "name": "stderr",
          "text": [
            "You passed along `num_labels=3` with an incompatible id to label map: {'0': 'LABEL_0', '1': 'LABEL_1'}. The number of labels wil be overwritten to 2.\n",
            "You passed along `num_labels=3` with an incompatible id to label map: {'0': 'LABEL_0', '1': 'LABEL_1'}. The number of labels wil be overwritten to 2.\n",
            "You passed along `num_labels=3` with an incompatible id to label map: {'0': 'LABEL_0', '1': 'LABEL_1'}. The number of labels wil be overwritten to 2.\n"
          ]
        },
        {
          "output_type": "display_data",
          "data": {
            "text/plain": [
              "Downloading (…)\"pytorch_model.bin\";:   0%|          | 0.00/1.63G [00:00<?, ?B/s]"
            ],
            "application/vnd.jupyter.widget-view+json": {
              "version_major": 2,
              "version_minor": 0,
              "model_id": "bd6b7e27bd1e45ad9a2ac259be90b5b1"
            }
          },
          "metadata": {}
        },
        {
          "output_type": "execute_result",
          "data": {
            "text/plain": [
              "0.59"
            ]
          },
          "metadata": {},
          "execution_count": 10
        }
      ]
    },
    {
      "cell_type": "markdown",
      "source": [
        "### Other"
      ],
      "metadata": {
        "id": "8QLsj7jPFaF0"
      }
    },
    {
      "cell_type": "code",
      "source": [
        "from transformers import AutoTokenizer, BartForCausalLM\n",
        "\n",
        "tokenizer = AutoTokenizer.from_pretrained(\"facebook/bart-base\")\n",
        "model = BartForCausalLM.from_pretrained(\"facebook/bart-base\", add_cross_attention=False)\n",
        "assert model.config.is_decoder, f\"{model.__class__} has to be configured as a decoder.\"\n",
        "inputs = tokenizer(\"Hello, my dog is cute\", return_tensors=\"pt\")\n",
        "outputs = model(**inputs)\n",
        "\n",
        "logits = outputs.logits\n",
        "expected_shape = [1, inputs.input_ids.shape[-1], model.config.vocab_size]\n",
        "list(logits.shape) == expected_shape"
      ],
      "metadata": {
        "colab": {
          "base_uri": "https://localhost:8080/"
        },
        "id": "CAsgpkNkFXY5",
        "outputId": "b65aa577-ccd9-48e1-de37-8a537bee187a"
      },
      "execution_count": null,
      "outputs": [
        {
          "output_type": "stream",
          "name": "stderr",
          "text": [
            "Some weights of the model checkpoint at facebook/bart-base were not used when initializing BartForCausalLM: ['encoder.layers.3.fc1.bias', 'encoder.layers.3.fc1.weight', 'encoder.layers.1.self_attn.v_proj.weight', 'encoder.layers.2.self_attn.q_proj.weight', 'shared.weight', 'encoder.layers.5.self_attn.v_proj.bias', 'encoder.layers.0.self_attn.v_proj.bias', 'encoder.layers.3.self_attn.out_proj.weight', 'encoder.layers.4.self_attn_layer_norm.bias', 'encoder.layers.5.self_attn.v_proj.weight', 'encoder.layers.1.self_attn.k_proj.bias', 'encoder.layers.1.self_attn.out_proj.bias', 'encoder.layers.3.self_attn.v_proj.bias', 'encoder.layers.0.self_attn.k_proj.weight', 'encoder.layers.5.self_attn.q_proj.weight', 'encoder.layers.1.fc1.weight', 'encoder.layers.0.self_attn.out_proj.bias', 'encoder.layers.1.self_attn.out_proj.weight', 'encoder.layers.4.self_attn.q_proj.weight', 'encoder.layers.5.fc1.weight', 'encoder.layers.2.self_attn.q_proj.bias', 'encoder.embed_tokens.weight', 'encoder.layers.2.fc1.bias', 'encoder.layers.1.fc2.weight', 'encoder.layers.5.self_attn.out_proj.bias', 'encoder.layers.4.self_attn_layer_norm.weight', 'encoder.layers.3.self_attn_layer_norm.weight', 'encoder.layers.4.fc2.weight', 'encoder.layers.5.final_layer_norm.weight', 'encoder.layers.2.fc1.weight', 'encoder.layers.5.self_attn_layer_norm.bias', 'encoder.layers.2.self_attn.out_proj.weight', 'encoder.layers.1.fc1.bias', 'encoder.layers.4.fc2.bias', 'encoder.layers.0.fc1.weight', 'encoder.layers.2.self_attn_layer_norm.weight', 'encoder.layers.0.self_attn.q_proj.bias', 'encoder.layers.5.self_attn.k_proj.bias', 'encoder.layers.4.self_attn.out_proj.weight', 'encoder.layers.5.final_layer_norm.bias', 'encoder.layers.3.self_attn.k_proj.weight', 'encoder.layers.2.fc2.bias', 'encoder.layers.3.self_attn.out_proj.bias', 'encoder.layers.0.fc2.weight', 'encoder.layers.0.final_layer_norm.bias', 'encoder.layers.4.self_attn.v_proj.bias', 'encoder.layers.3.self_attn.v_proj.weight', 'encoder.layers.4.self_attn.out_proj.bias', 'encoder.layers.2.final_layer_norm.weight', 'encoder.layers.0.final_layer_norm.weight', 'encoder.layers.5.self_attn_layer_norm.weight', 'encoder.layers.0.self_attn.v_proj.weight', 'encoder.layers.3.self_attn_layer_norm.bias', 'encoder.layers.5.self_attn.q_proj.bias', 'encoder.layers.0.fc1.bias', 'encoder.layernorm_embedding.weight', 'encoder.layers.4.fc1.weight', 'encoder.embed_positions.weight', 'encoder.layers.3.final_layer_norm.bias', 'encoder.layers.1.self_attn_layer_norm.bias', 'encoder.layers.2.self_attn.v_proj.weight', 'encoder.layernorm_embedding.bias', 'encoder.layers.4.fc1.bias', 'encoder.layers.2.self_attn.v_proj.bias', 'encoder.layers.0.self_attn_layer_norm.bias', 'encoder.layers.4.self_attn.v_proj.weight', 'encoder.layers.4.self_attn.k_proj.weight', 'encoder.layers.2.self_attn.out_proj.bias', 'encoder.layers.1.fc2.bias', 'encoder.layers.0.self_attn.k_proj.bias', 'encoder.layers.3.final_layer_norm.weight', 'encoder.layers.4.self_attn.q_proj.bias', 'encoder.layers.1.self_attn.k_proj.weight', 'encoder.layers.0.self_attn.q_proj.weight', 'encoder.layers.1.self_attn.v_proj.bias', 'encoder.layers.0.fc2.bias', 'encoder.layers.3.self_attn.q_proj.bias', 'encoder.layers.1.self_attn.q_proj.bias', 'encoder.layers.5.fc1.bias', 'encoder.layers.2.self_attn.k_proj.bias', 'encoder.layers.0.self_attn_layer_norm.weight', 'encoder.layers.2.self_attn_layer_norm.bias', 'encoder.layers.5.self_attn.k_proj.weight', 'encoder.layers.4.self_attn.k_proj.bias', 'encoder.layers.3.self_attn.k_proj.bias', 'encoder.layers.4.final_layer_norm.bias', 'encoder.layers.2.fc2.weight', 'encoder.layers.4.final_layer_norm.weight', 'encoder.layers.2.self_attn.k_proj.weight', 'encoder.layers.3.fc2.weight', 'encoder.layers.3.self_attn.q_proj.weight', 'encoder.layers.1.final_layer_norm.weight', 'encoder.layers.2.final_layer_norm.bias', 'encoder.layers.5.fc2.weight', 'encoder.layers.1.self_attn.q_proj.weight', 'encoder.layers.5.fc2.bias', 'encoder.layers.1.self_attn_layer_norm.weight', 'encoder.layers.1.final_layer_norm.bias', 'encoder.layers.0.self_attn.out_proj.weight', 'encoder.layers.5.self_attn.out_proj.weight', 'encoder.layers.3.fc2.bias']\n",
            "- This IS expected if you are initializing BartForCausalLM from the checkpoint of a model trained on another task or with another architecture (e.g. initializing a BertForSequenceClassification model from a BertForPreTraining model).\n",
            "- This IS NOT expected if you are initializing BartForCausalLM from the checkpoint of a model that you expect to be exactly identical (initializing a BertForSequenceClassification model from a BertForSequenceClassification model).\n"
          ]
        },
        {
          "output_type": "execute_result",
          "data": {
            "text/plain": [
              "True"
            ]
          },
          "metadata": {},
          "execution_count": 11
        }
      ]
    }
  ]
}